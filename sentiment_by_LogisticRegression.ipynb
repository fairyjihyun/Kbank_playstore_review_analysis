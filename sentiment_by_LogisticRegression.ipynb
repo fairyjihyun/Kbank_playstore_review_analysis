{
  "nbformat": 4,
  "nbformat_minor": 0,
  "metadata": {
    "colab": {
      "name": "sentiment_by_LogisticRegression.ipynb",
      "provenance": [],
      "collapsed_sections": [],
      "machine_shape": "hm",
      "authorship_tag": "ABX9TyNWBK0AjHpPbKdi+O2J6Whx",
      "include_colab_link": true
    },
    "kernelspec": {
      "name": "python3",
      "display_name": "Python 3"
    },
    "language_info": {
      "name": "python"
    },
    "accelerator": "GPU",
    "gpuClass": "standard"
  },
  "cells": [
    {
      "cell_type": "markdown",
      "metadata": {
        "id": "view-in-github",
        "colab_type": "text"
      },
      "source": [
        "<a href=\"https://colab.research.google.com/github/hamsterjoa/Kbank_playstore_review_analysis/blob/master/sentiment_by_LogisticRegression.ipynb\" target=\"_parent\"><img src=\"https://colab.research.google.com/assets/colab-badge.svg\" alt=\"Open In Colab\"/></a>"
      ]
    },
    {
      "cell_type": "code",
      "execution_count": 1,
      "metadata": {
        "colab": {
          "base_uri": "https://localhost:8080/"
        },
        "id": "Rcs--QzwHip_",
        "outputId": "bdf890c1-007a-4aeb-b28e-bc4515bba6a6"
      },
      "outputs": [
        {
          "output_type": "stream",
          "name": "stdout",
          "text": [
            "Mounted at /content/drive\n"
          ]
        }
      ],
      "source": [
        "import os, sys  \n",
        "from google.colab import drive\n",
        "drive.mount('/content/drive')"
      ]
    },
    {
      "cell_type": "code",
      "source": [
        "import io\n",
        "import pandas as pd\n",
        "\n",
        "from sklearn import metrics\n",
        "from sklearn.model_selection import train_test_split\n",
        "from sklearn.feature_extraction.text import CountVectorizer\n",
        "from sklearn.linear_model import LogisticRegression\n",
        "from sklearn.feature_extraction.text import TfidfVectorizer"
      ],
      "metadata": {
        "id": "E5L2ttiSLMWU"
      },
      "execution_count": 16,
      "outputs": []
    },
    {
      "cell_type": "markdown",
      "source": [
        "### 데이터 로드"
      ],
      "metadata": {
        "id": "Ow7PZBt-LMyE"
      }
    },
    {
      "cell_type": "code",
      "source": [
        "# 파일 불러오기\n",
        "test = pd.read_pickle(\"/content/drive/My Drive/Colab Notebooks/test_data_for_modeling.pkl\")\n",
        "train = pd.read_pickle(\"/content/drive/My Drive/Colab Notebooks/train_data_for_modeling.pkl\")"
      ],
      "metadata": {
        "id": "7asSQA3yLPJM"
      },
      "execution_count": 19,
      "outputs": []
    },
    {
      "cell_type": "markdown",
      "source": [
        "## 모델링\n",
        "- 전처리한 main_pos 칼럼을 이용해 모델 학습을 진행합니다.\n",
        "- train 셋에서 70%를 학습에, 25%를 모델이 유의미한지 검증하는데 사용합니다."
      ],
      "metadata": {
        "id": "cspTcVAoLfqb"
      }
    },
    {
      "cell_type": "markdown",
      "source": [
        "### train/validation 정의"
      ],
      "metadata": {
        "id": "XgsTahO3Lr8_"
      }
    },
    {
      "cell_type": "code",
      "source": [
        "train.shape"
      ],
      "metadata": {
        "colab": {
          "base_uri": "https://localhost:8080/"
        },
        "id": "a51qK2vdOi_d",
        "outputId": "e4ce4218-8e3b-4f69-9b4e-7d1eb8044b18"
      },
      "execution_count": 20,
      "outputs": [
        {
          "output_type": "execute_result",
          "data": {
            "text/plain": [
              "(1530, 5)"
            ]
          },
          "metadata": {},
          "execution_count": 20
        }
      ]
    },
    {
      "cell_type": "code",
      "source": [
        "data = train.copy()\n",
        "train, val = train_test_split(data)\n",
        "train.reset_index(inplace=True) # 전처리 과정에서 데이터가 뒤섞이지 않도록 인덱스를 초기화\n",
        "val.reset_index(inplace=True)\n",
        "\n",
        "print( 'train 데이터 셋 모양 :', train.shape)\n",
        "print( 'val 데이터 셋 모양 :', val.shape)"
      ],
      "metadata": {
        "colab": {
          "base_uri": "https://localhost:8080/"
        },
        "id": "SrkdA7P5L1yk",
        "outputId": "48d97638-5552-44be-868e-d92371c870d8"
      },
      "execution_count": 21,
      "outputs": [
        {
          "output_type": "stream",
          "name": "stdout",
          "text": [
            "train 데이터 셋 모양 : (1147, 6)\n",
            "val 데이터 셋 모양 : (383, 6)\n"
          ]
        }
      ]
    },
    {
      "cell_type": "markdown",
      "source": [
        "### 벡터화"
      ],
      "metadata": {
        "id": "dOPJYA-AMgk0"
      }
    },
    {
      "cell_type": "code",
      "source": [
        "X_train = train.main_pos # training 데이터에서 문서 추출\n",
        "y_train = train.rating # training 데이터에서 라벨 추출"
      ],
      "metadata": {
        "id": "1rFd8wsKMX3L"
      },
      "execution_count": 25,
      "outputs": []
    },
    {
      "cell_type": "code",
      "source": [
        "vectorizer = CountVectorizer()\n",
        "vectorizer.fit(X_train) # countvectorizer 학습\n",
        "X_train_vec = vectorizer.transform(X_train)"
      ],
      "metadata": {
        "id": "reBOraL4M1qI"
      },
      "execution_count": 26,
      "outputs": []
    },
    {
      "cell_type": "markdown",
      "source": [
        "### 모델 학습"
      ],
      "metadata": {
        "id": "rvG97ZDuNGsv"
      }
    },
    {
      "cell_type": "code",
      "source": [
        "model = LogisticRegression(max_iter=500)\n",
        "model.fit(X_train_vec, y_train)"
      ],
      "metadata": {
        "colab": {
          "base_uri": "https://localhost:8080/"
        },
        "id": "IvRR9BOmNFnp",
        "outputId": "cb8962d4-0ef0-4c75-e3fc-6dc22cef418c"
      },
      "execution_count": 27,
      "outputs": [
        {
          "output_type": "execute_result",
          "data": {
            "text/plain": [
              "LogisticRegression(max_iter=500)"
            ]
          },
          "metadata": {},
          "execution_count": 27
        }
      ]
    },
    {
      "cell_type": "markdown",
      "source": [
        "### 검증셋으로 모델 성능 검증"
      ],
      "metadata": {
        "id": "Uea1YrHCNThr"
      }
    },
    {
      "cell_type": "code",
      "source": [
        "X_val = val.main_pos # validation 데이터에서 전처리된 문서 추출\n",
        "y_val = val.rating # validation 데이터에서 라벨 추출\n",
        "\n",
        "X_val_vec = vectorizer.transform(X_val) # train셋으로 fit한 벡터라이저 이용해 transform"
      ],
      "metadata": {
        "id": "J_6lvzqONRse"
      },
      "execution_count": 28,
      "outputs": []
    },
    {
      "cell_type": "code",
      "source": [
        "y_pred = model.predict(X_val_vec)\n",
        "print(y_pred)"
      ],
      "metadata": {
        "colab": {
          "base_uri": "https://localhost:8080/"
        },
        "id": "JfLKVuAjNmGc",
        "outputId": "1be67460-0ced-4900-9600-c3d56679767b"
      },
      "execution_count": 29,
      "outputs": [
        {
          "output_type": "stream",
          "name": "stdout",
          "text": [
            "[1 1 1 3 1 1 1 5 1 1 1 1 5 1 1 5 1 1 1 5 5 5 1 1 1 1 1 1 1 1 1 1 5 1 1 1 1\n",
            " 1 1 1 1 1 1 1 1 3 1 1 1 1 1 1 1 1 1 1 1 5 1 1 1 1 1 1 1 1 1 3 1 1 1 1 1 1\n",
            " 5 1 1 5 1 1 1 1 2 1 1 1 1 1 1 1 3 1 1 1 1 3 1 1 3 1 1 5 1 1 1 1 1 1 5 1 1\n",
            " 1 1 1 1 1 2 1 1 1 1 1 1 1 1 1 1 1 1 3 1 1 1 1 1 1 1 2 1 1 1 1 1 1 1 1 1 1\n",
            " 1 1 1 1 3 5 1 1 1 1 1 1 1 1 1 1 1 1 5 1 1 1 1 1 1 1 1 1 1 1 5 1 1 1 1 1 1\n",
            " 1 1 1 1 1 1 1 1 1 1 1 1 1 1 1 1 1 1 5 1 1 1 1 1 1 1 1 1 1 1 1 1 1 1 1 1 1\n",
            " 1 1 1 1 1 1 1 1 1 1 1 1 1 2 5 1 5 1 1 1 5 1 1 1 1 1 1 1 1 1 1 3 4 1 1 1 1\n",
            " 1 1 4 5 1 1 1 1 1 1 1 2 1 1 5 1 1 1 1 1 1 1 1 1 1 1 1 1 1 1 1 1 1 2 1 1 1\n",
            " 1 1 1 3 1 1 1 1 1 1 5 1 1 1 1 1 5 1 1 5 1 1 1 1 1 1 2 5 1 1 1 1 1 1 1 1 1\n",
            " 1 1 3 1 1 1 1 1 1 1 1 5 1 1 1 1 1 1 1 1 1 1 1 1 1 1 1 1 3 1 1 2 1 1 1 1 1\n",
            " 1 1 1 1 1 1 1 1 1 1 1 1 1]\n"
          ]
        }
      ]
    },
    {
      "cell_type": "code",
      "source": [
        "print('Logistic Regression 의 예측 정확도는', round(metrics.accuracy_score(y_val, y_pred),3)) "
      ],
      "metadata": {
        "colab": {
          "base_uri": "https://localhost:8080/"
        },
        "id": "GoDfw9QONrKY",
        "outputId": "72a973ff-715d-4472-e52d-d5fd861d8255"
      },
      "execution_count": 30,
      "outputs": [
        {
          "output_type": "stream",
          "name": "stdout",
          "text": [
            "Logistic Regression 의 예측 정확도는 0.76\n"
          ]
        }
      ]
    },
    {
      "cell_type": "markdown",
      "source": [
        "### TF-IDF"
      ],
      "metadata": {
        "id": "8-Ehy-FINwDj"
      }
    },
    {
      "cell_type": "code",
      "source": [
        "X_train = train.main_pos #training 데이터에서 문서 추출\n",
        "y_train = train.rating #training 데이터에서 라벨 추출\n",
        "\n",
        "# TF-IDF Vectorization 적용하여 학습 데이터셋과 테스트 데이터 셋 변환. \n",
        "tfidf_vect = TfidfVectorizer()\n",
        "tfidf_vect.fit(X_train)\n",
        "\n",
        "X_val = val.main_pos #validation 데이터에서 전처리된 문서 추출\n",
        "y_val = val.rating #validation 데이터에서 라벨 추출\n",
        "\n",
        "X_train_tfidf_vect = tfidf_vect.transform(X_train)\n",
        "X_val_tfidf_vect = tfidf_vect.transform(X_val) # train셋으로 fit한 벡터라이저 이용해 transform\n",
        "print('학습 & 테스트 데이터 Text의 TfidfVectorizer Shape:',X_train_tfidf_vect.shape, X_val_tfidf_vect.shape)"
      ],
      "metadata": {
        "colab": {
          "base_uri": "https://localhost:8080/"
        },
        "id": "U-BW2l81NyK4",
        "outputId": "381ec7af-b9a4-45e7-9c3c-65fc7d150675"
      },
      "execution_count": 31,
      "outputs": [
        {
          "output_type": "stream",
          "name": "stdout",
          "text": [
            "학습 & 테스트 데이터 Text의 TfidfVectorizer Shape: (1147, 5370) (383, 5370)\n"
          ]
        }
      ]
    },
    {
      "cell_type": "code",
      "source": [
        "# LogisticRegression을 이용하여 학습/예측/평가 수행. \n",
        "lr_clf = LogisticRegression(solver='liblinear') \n",
        "lr_clf.fit(X_train_tfidf_vect , y_train)\n",
        "pred = lr_clf.predict(X_val_tfidf_vect)\n",
        "print('TF-IDF Logistic Regression 의 예측 정확도는 {0:.3f}'.format(metrics.accuracy_score(y_val ,pred)))"
      ],
      "metadata": {
        "colab": {
          "base_uri": "https://localhost:8080/"
        },
        "id": "k86mZ9UjN7F0",
        "outputId": "e15fc869-06b0-442e-a119-3c64610b47c6"
      },
      "execution_count": 32,
      "outputs": [
        {
          "output_type": "stream",
          "name": "stdout",
          "text": [
            "TF-IDF Logistic Regression 의 예측 정확도는 0.762\n"
          ]
        }
      ]
    },
    {
      "cell_type": "markdown",
      "source": [
        "*TF-IDF를 적용하여 검증 셋을 예측해본 결과 0.762%로 정확도가 상승한 것을 알 수 있습니다.*"
      ],
      "metadata": {
        "id": "MKFaU8IvPTVB"
      }
    },
    {
      "cell_type": "markdown",
      "source": [
        "## test 분류"
      ],
      "metadata": {
        "id": "55UrweIZTJ3n"
      }
    },
    {
      "cell_type": "code",
      "source": [
        "X_train = data.main_pos \n",
        "y_train = data.rating \n",
        "\n",
        "# TF-IDF Vectorization 적용하여 학습 데이터셋과 테스트 데이터 셋 변환. \n",
        "tfidf_vect = TfidfVectorizer(ngram_range=(1,2), max_df=300)\n",
        "tfidf_vect.fit(X_train)\n",
        "\n",
        "X_train_tfidf_vect = tfidf_vect.transform(X_train)\n",
        "\n",
        "print(X_train_tfidf_vect.shape)"
      ],
      "metadata": {
        "colab": {
          "base_uri": "https://localhost:8080/"
        },
        "id": "Xgq1UGCuQeCb",
        "outputId": "d063bc21-3d28-4013-d390-04a4ff64444e"
      },
      "execution_count": 42,
      "outputs": [
        {
          "output_type": "stream",
          "name": "stdout",
          "text": [
            "(1530, 30230)\n"
          ]
        }
      ]
    },
    {
      "cell_type": "code",
      "source": [
        "# LogisticRegression을 이용하여 학습/예측/평가 수행. \n",
        "lr_clf = LogisticRegression(solver='liblinear', C = 10) \n",
        "lr_clf.fit(X_train_tfidf_vect , y_train)"
      ],
      "metadata": {
        "colab": {
          "base_uri": "https://localhost:8080/"
        },
        "id": "-a4k6emLTu9r",
        "outputId": "f9446a8d-af12-4c31-a11e-3eccffd9dea4"
      },
      "execution_count": 43,
      "outputs": [
        {
          "output_type": "execute_result",
          "data": {
            "text/plain": [
              "LogisticRegression(C=10, solver='liblinear')"
            ]
          },
          "metadata": {},
          "execution_count": 43
        }
      ]
    },
    {
      "cell_type": "code",
      "source": [
        "X_test = test.main_pos\n",
        "y_test = test.rating\n",
        "\n",
        "X_test_vec = tfidf_vect.transform(X_test)"
      ],
      "metadata": {
        "id": "6b85GusES86j"
      },
      "execution_count": 55,
      "outputs": []
    },
    {
      "cell_type": "code",
      "source": [
        "pred_test = lr_clf.predict(X_test_vec)\n",
        "print(pred_test)"
      ],
      "metadata": {
        "colab": {
          "base_uri": "https://localhost:8080/"
        },
        "id": "CZ5CWVsEUQa5",
        "outputId": "5af78b71-0491-433c-d2ca-ba15347b925c"
      },
      "execution_count": 56,
      "outputs": [
        {
          "output_type": "stream",
          "name": "stdout",
          "text": [
            "[1 1 1 1 1 1 1 1 1 1 1 1 1 1 1 1 1 1 1 1 5 1 1 1 1 1 1 1 1 1 1 1 1 1 1 1 1\n",
            " 1 1 1 1 1 1 1 1 1 5 1 1 1 1 1 1 5 1 1 1 1 1 1 1 1 1 1 1 1 1 1 1 3 1 1 1 1\n",
            " 1 1 1 1 1 1 1 1 1 1 1 1 5 1 1 1 1 1 1 1 1 1 1 1 1 1 1 1 1 1 1 1 1 1 1 1 1\n",
            " 1 1 1 1 1 1 5 1 1 1 1 1 1 5 1 1 1 1 1 1 1 1 1 1 1 1 5 1 1 1 1 1 1 1 1 1 1\n",
            " 1 1 1 1 1 1 1 3 1 1 1 1 1 1 1 1 1 1 1 1 1 1 1 1 1 1 1 1 1 1 1 1 1 1 1 1 1\n",
            " 1 1 1 1 1 1 1 1 1 1 1 1 3 1 1 1 1 1 1 1 1 1 1 1 1 1 1 1 1 1 1 1 1 1 1 1 1\n",
            " 1 1 1 1 1 1 1 1 1 1 5 1 1 1 1 5 1 1 1 1 1 1 3 1 1 1 1 1 1 1 1 1 1 1 1 1 1\n",
            " 1 1 1 1 1 1 1 1 1 1 1 1 1 1 1 1 1 1 1 1 1 1 1 1 1 1 1 1 1 1 5 1 1 1 1 1 1\n",
            " 1 1 1 1 1 1 1 1 1 1 1 1 1 5 1 1 1 1 1 1 1 1 1 1 1 1 1 1 1 1 1 1 1 1 1 1 1\n",
            " 1 1 1 1 1 1 5 1 1 1 1 1 1 1 1 1 1 1 1 1 5 3 1 1 1 1 1 1 1 1 1 1 1 5 1 1 1\n",
            " 1 1 1 1 1 1 1 1 1 1 5 5 1 1 1 1 1 1 1 1 5 1 1 1 1 1 1 1 1 1 1 1 1 1 1 1 1\n",
            " 1 1 1 1 1 1 1 5 1 1 1 1 1 1 1 1 1 1 1 1 1 1 5 1 1 1 1 1 1 1 1 1 1 1 1 1 1\n",
            " 1 1 1 1 1 1 1 1 1 1 1 1 5 1 1 1 5 5 1 1 1 1 1 1 1 1 1 1 1 1 1 1 1 1 1 1 1\n",
            " 1 1 1 1 1 1 1 1 1 1 1 1 1 1 1 1 1 1 1 1 1 1 1 1 1 1 1 1 1]\n"
          ]
        }
      ]
    },
    {
      "cell_type": "code",
      "source": [
        "print('Logistic Regression 의 예측 정확도는', round(metrics.accuracy_score(y_test, pred_test),3))"
      ],
      "metadata": {
        "colab": {
          "base_uri": "https://localhost:8080/"
        },
        "id": "JWUan-LtVn_a",
        "outputId": "3f86bc29-9911-4a8e-b81d-02415e0a9741"
      },
      "execution_count": 57,
      "outputs": [
        {
          "output_type": "stream",
          "name": "stdout",
          "text": [
            "Logistic Regression 의 예측 정확도는 0.69\n"
          ]
        }
      ]
    }
  ]
}