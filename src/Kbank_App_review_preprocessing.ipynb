{
  "nbformat": 4,
  "nbformat_minor": 0,
  "metadata": {
    "colab": {
      "name": "Kbank_App_review_preprocessing.ipynb",
      "provenance": [],
      "collapsed_sections": [],
      "machine_shape": "hm",
      "authorship_tag": "ABX9TyO5Tey9WXaXt7vb6GyYv8Vq",
      "include_colab_link": true
    },
    "kernelspec": {
      "name": "python3",
      "display_name": "Python 3"
    },
    "language_info": {
      "name": "python"
    },
    "accelerator": "GPU",
    "gpuClass": "standard"
  },
  "cells": [
    {
      "cell_type": "markdown",
      "metadata": {
        "id": "view-in-github",
        "colab_type": "text"
      },
      "source": [
        "<a href=\"https://colab.research.google.com/github/hamsterjoa/Kbank_playstore_review_analysis/blob/master/Kbank_App_review_preprocessing.ipynb\" target=\"_parent\"><img src=\"https://colab.research.google.com/assets/colab-badge.svg\" alt=\"Open In Colab\"/></a>"
      ]
    },
    {
      "cell_type": "code",
      "source": [
        "from google.colab import files\n",
        "\n",
        "uploaded = files.upload()\n",
        "\n",
        "for fn in uploaded.keys():\n",
        "  print('User uploaded file \"{name}\" with length{length} bytes'.format(name=fn, length=len(uploaded[fn])))"
      ],
      "metadata": {
        "colab": {
          "resources": {
            "http://localhost:8080/nbextensions/google.colab/files.js": {
              "data": "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",
              "ok": true,
              "headers": [
                [
                  "content-type",
                  "application/javascript"
                ]
              ],
              "status": 200,
              "status_text": ""
            }
          },
          "base_uri": "https://localhost:8080/",
          "height": 95
        },
        "id": "ru7SmMes2lcC",
        "outputId": "ec300f52-9a7e-4126-8034-7a91ed5e3c9d"
      },
      "execution_count": null,
      "outputs": [
        {
          "output_type": "display_data",
          "data": {
            "text/plain": [
              "<IPython.core.display.HTML object>"
            ],
            "text/html": [
              "\n",
              "     <input type=\"file\" id=\"files-8a6e65b1-b0a9-4413-bc68-b5fe4e2a8b3a\" name=\"files[]\" multiple disabled\n",
              "        style=\"border:none\" />\n",
              "     <output id=\"result-8a6e65b1-b0a9-4413-bc68-b5fe4e2a8b3a\">\n",
              "      Upload widget is only available when the cell has been executed in the\n",
              "      current browser session. Please rerun this cell to enable.\n",
              "      </output>\n",
              "      <script src=\"/nbextensions/google.colab/files.js\"></script> "
            ]
          },
          "metadata": {}
        },
        {
          "output_type": "stream",
          "name": "stdout",
          "text": [
            "Saving review_dataset.csv to review_dataset.csv\n",
            "User uploaded file \"review_dataset.csv\" with length553990 bytes\n"
          ]
        }
      ]
    },
    {
      "cell_type": "code",
      "source": [
        "from google.colab import drive\n",
        "drive.mount('/content/drive')"
      ],
      "metadata": {
        "colab": {
          "base_uri": "https://localhost:8080/"
        },
        "id": "utMjTuvt5pQF",
        "outputId": "59f6351c-def0-49a8-dec3-59575044ee0a"
      },
      "execution_count": null,
      "outputs": [
        {
          "output_type": "stream",
          "name": "stdout",
          "text": [
            "Drive already mounted at /content/drive; to attempt to forcibly remount, call drive.mount(\"/content/drive\", force_remount=True).\n"
          ]
        }
      ]
    },
    {
      "cell_type": "code",
      "source": [
        "!pip install git+https://github.com/haven-jeon/PyKoSpacing.git\n",
        "!pip install customized_konlpy"
      ],
      "metadata": {
        "id": "7M57ooaJMlW5"
      },
      "execution_count": null,
      "outputs": []
    },
    {
      "cell_type": "code",
      "source": [
        "import io\n",
        "import pandas as pd\n",
        "import numpy as np\n",
        "\n",
        "import re\n",
        "import nltk\n",
        "import pickle\n",
        "from konlpy.tag import Okt; t=Okt()\n",
        "from tqdm import tqdm\n",
        "from pykospacing import Spacing\n",
        "from collections import Counter\n",
        "import urllib.request\n",
        "from tensorflow import keras\n",
        "from tensorflow.keras.preprocessing.text import Tokenizer\n",
        "from tensorflow.keras.preprocessing.sequence import pad_sequences\n",
        "from sklearn.model_selection import train_test_split"
      ],
      "metadata": {
        "id": "59jNABoL2p96"
      },
      "execution_count": null,
      "outputs": []
    },
    {
      "cell_type": "code",
      "source": [
        "df = pd.read_csv(io.StringIO(uploaded['review_dataset.csv'].decode('utf-8')))\n",
        "df.drop(['Unnamed: 0','id','dateYear','dateMonth','dateDay'], axis = 1, inplace=True)\n",
        "# strict한 기준으로 판단하기 위해 2점까지는 label 0, 3점부터는 label 1\n",
        "df['label'] = np.select([df.rating>2],[1],default=0)\n",
        "# 데이터 확인\n",
        "df"
      ],
      "metadata": {
        "colab": {
          "base_uri": "https://localhost:8080/",
          "height": 607
        },
        "id": "QbTFKx5C3Bdd",
        "outputId": "b875697e-5461-430e-acf8-01053bc34555"
      },
      "execution_count": null,
      "outputs": [
        {
          "output_type": "execute_result",
          "data": {
            "text/plain": [
              "          date  rating        userName  \\\n",
              "0     20220601       1              동동   \n",
              "1     20220626       2  Younghoon Jeon   \n",
              "2     20220629       1  Kuee Haeng Lee   \n",
              "3     20220709       3     brian lryan   \n",
              "4     20220625       5             박태준   \n",
              "...        ...     ...             ...   \n",
              "2035  20210506       1    사람이 꽃보다 아름다워   \n",
              "2036  20210816       1       Call Me K   \n",
              "2037  20210223       1            아주그냥   \n",
              "2038  20210413       1         zin lee   \n",
              "2039  20210403       5            칼세이건   \n",
              "\n",
              "                                                content  label  \n",
              "0     타 기관 인증서 불러오기가 안되는데 대체 무슨 일이죠?? 범용공동인증서를 등록하려고...      0  \n",
              "1     다른건 다 모르겠고 어플 켰을 때 메인 화면이 뜨기까지 시간 좀 더 단축시켜주세요....      0  \n",
              "2     타기관인증서를 갱신하면서 인증서가져오기를 수행했는데요. QR로 가져오기는 아예 안돼...      0  \n",
              "3     갤럭시쓰는데 알림진동이 안 울립니다.(에티켓모드 아님) 전에 리뷰보니까 다른분들도 ...      1  \n",
              "4     뭣같은 앱아이콘을 바꾼건 정말 좋네요. 거기다 묘하게 앱 자체의 속도도 빨라진 느낌...      1  \n",
              "...                                                 ...    ...  \n",
              "2035  갤럭시s9+사용 고객입니다.. 케이뱅크 앱이 실행이 안되고 로고만 뜨네요.. 3일내...      0  \n",
              "2036  저는 당신들이 너무 싫습니다. 잘쓰고 있던거를 못쓰게 하고 돈도 못보내고 정말 당신...      0  \n",
              "2037              접속을 못하네 인출좀 할려고 하니 상담원은 계속 통화중... 지친다      0  \n",
              "2038  인증번호자체가 안오네요 삼성갤럭시 S9 최신OS 시간은 오후 8시부터 계속~ 쭉이요...      0  \n",
              "2039                        앱을설치하고 개설했는데 바탕화면에 앱이 안보여요!      1  \n",
              "\n",
              "[2040 rows x 5 columns]"
            ],
            "text/html": [
              "\n",
              "  <div id=\"df-5336854f-28a8-4214-b2c2-f288e8738ac4\">\n",
              "    <div class=\"colab-df-container\">\n",
              "      <div>\n",
              "<style scoped>\n",
              "    .dataframe tbody tr th:only-of-type {\n",
              "        vertical-align: middle;\n",
              "    }\n",
              "\n",
              "    .dataframe tbody tr th {\n",
              "        vertical-align: top;\n",
              "    }\n",
              "\n",
              "    .dataframe thead th {\n",
              "        text-align: right;\n",
              "    }\n",
              "</style>\n",
              "<table border=\"1\" class=\"dataframe\">\n",
              "  <thead>\n",
              "    <tr style=\"text-align: right;\">\n",
              "      <th></th>\n",
              "      <th>date</th>\n",
              "      <th>rating</th>\n",
              "      <th>userName</th>\n",
              "      <th>content</th>\n",
              "      <th>label</th>\n",
              "    </tr>\n",
              "  </thead>\n",
              "  <tbody>\n",
              "    <tr>\n",
              "      <th>0</th>\n",
              "      <td>20220601</td>\n",
              "      <td>1</td>\n",
              "      <td>동동</td>\n",
              "      <td>타 기관 인증서 불러오기가 안되는데 대체 무슨 일이죠?? 범용공동인증서를 등록하려고...</td>\n",
              "      <td>0</td>\n",
              "    </tr>\n",
              "    <tr>\n",
              "      <th>1</th>\n",
              "      <td>20220626</td>\n",
              "      <td>2</td>\n",
              "      <td>Younghoon Jeon</td>\n",
              "      <td>다른건 다 모르겠고 어플 켰을 때 메인 화면이 뜨기까지 시간 좀 더 단축시켜주세요....</td>\n",
              "      <td>0</td>\n",
              "    </tr>\n",
              "    <tr>\n",
              "      <th>2</th>\n",
              "      <td>20220629</td>\n",
              "      <td>1</td>\n",
              "      <td>Kuee Haeng Lee</td>\n",
              "      <td>타기관인증서를 갱신하면서 인증서가져오기를 수행했는데요. QR로 가져오기는 아예 안돼...</td>\n",
              "      <td>0</td>\n",
              "    </tr>\n",
              "    <tr>\n",
              "      <th>3</th>\n",
              "      <td>20220709</td>\n",
              "      <td>3</td>\n",
              "      <td>brian lryan</td>\n",
              "      <td>갤럭시쓰는데 알림진동이 안 울립니다.(에티켓모드 아님) 전에 리뷰보니까 다른분들도 ...</td>\n",
              "      <td>1</td>\n",
              "    </tr>\n",
              "    <tr>\n",
              "      <th>4</th>\n",
              "      <td>20220625</td>\n",
              "      <td>5</td>\n",
              "      <td>박태준</td>\n",
              "      <td>뭣같은 앱아이콘을 바꾼건 정말 좋네요. 거기다 묘하게 앱 자체의 속도도 빨라진 느낌...</td>\n",
              "      <td>1</td>\n",
              "    </tr>\n",
              "    <tr>\n",
              "      <th>...</th>\n",
              "      <td>...</td>\n",
              "      <td>...</td>\n",
              "      <td>...</td>\n",
              "      <td>...</td>\n",
              "      <td>...</td>\n",
              "    </tr>\n",
              "    <tr>\n",
              "      <th>2035</th>\n",
              "      <td>20210506</td>\n",
              "      <td>1</td>\n",
              "      <td>사람이 꽃보다 아름다워</td>\n",
              "      <td>갤럭시s9+사용 고객입니다.. 케이뱅크 앱이 실행이 안되고 로고만 뜨네요.. 3일내...</td>\n",
              "      <td>0</td>\n",
              "    </tr>\n",
              "    <tr>\n",
              "      <th>2036</th>\n",
              "      <td>20210816</td>\n",
              "      <td>1</td>\n",
              "      <td>Call Me K</td>\n",
              "      <td>저는 당신들이 너무 싫습니다. 잘쓰고 있던거를 못쓰게 하고 돈도 못보내고 정말 당신...</td>\n",
              "      <td>0</td>\n",
              "    </tr>\n",
              "    <tr>\n",
              "      <th>2037</th>\n",
              "      <td>20210223</td>\n",
              "      <td>1</td>\n",
              "      <td>아주그냥</td>\n",
              "      <td>접속을 못하네 인출좀 할려고 하니 상담원은 계속 통화중... 지친다</td>\n",
              "      <td>0</td>\n",
              "    </tr>\n",
              "    <tr>\n",
              "      <th>2038</th>\n",
              "      <td>20210413</td>\n",
              "      <td>1</td>\n",
              "      <td>zin lee</td>\n",
              "      <td>인증번호자체가 안오네요 삼성갤럭시 S9 최신OS 시간은 오후 8시부터 계속~ 쭉이요...</td>\n",
              "      <td>0</td>\n",
              "    </tr>\n",
              "    <tr>\n",
              "      <th>2039</th>\n",
              "      <td>20210403</td>\n",
              "      <td>5</td>\n",
              "      <td>칼세이건</td>\n",
              "      <td>앱을설치하고 개설했는데 바탕화면에 앱이 안보여요!</td>\n",
              "      <td>1</td>\n",
              "    </tr>\n",
              "  </tbody>\n",
              "</table>\n",
              "<p>2040 rows × 5 columns</p>\n",
              "</div>\n",
              "      <button class=\"colab-df-convert\" onclick=\"convertToInteractive('df-5336854f-28a8-4214-b2c2-f288e8738ac4')\"\n",
              "              title=\"Convert this dataframe to an interactive table.\"\n",
              "              style=\"display:none;\">\n",
              "        \n",
              "  <svg xmlns=\"http://www.w3.org/2000/svg\" height=\"24px\"viewBox=\"0 0 24 24\"\n",
              "       width=\"24px\">\n",
              "    <path d=\"M0 0h24v24H0V0z\" fill=\"none\"/>\n",
              "    <path d=\"M18.56 5.44l.94 2.06.94-2.06 2.06-.94-2.06-.94-.94-2.06-.94 2.06-2.06.94zm-11 1L8.5 8.5l.94-2.06 2.06-.94-2.06-.94L8.5 2.5l-.94 2.06-2.06.94zm10 10l.94 2.06.94-2.06 2.06-.94-2.06-.94-.94-2.06-.94 2.06-2.06.94z\"/><path d=\"M17.41 7.96l-1.37-1.37c-.4-.4-.92-.59-1.43-.59-.52 0-1.04.2-1.43.59L10.3 9.45l-7.72 7.72c-.78.78-.78 2.05 0 2.83L4 21.41c.39.39.9.59 1.41.59.51 0 1.02-.2 1.41-.59l7.78-7.78 2.81-2.81c.8-.78.8-2.07 0-2.86zM5.41 20L4 18.59l7.72-7.72 1.47 1.35L5.41 20z\"/>\n",
              "  </svg>\n",
              "      </button>\n",
              "      \n",
              "  <style>\n",
              "    .colab-df-container {\n",
              "      display:flex;\n",
              "      flex-wrap:wrap;\n",
              "      gap: 12px;\n",
              "    }\n",
              "\n",
              "    .colab-df-convert {\n",
              "      background-color: #E8F0FE;\n",
              "      border: none;\n",
              "      border-radius: 50%;\n",
              "      cursor: pointer;\n",
              "      display: none;\n",
              "      fill: #1967D2;\n",
              "      height: 32px;\n",
              "      padding: 0 0 0 0;\n",
              "      width: 32px;\n",
              "    }\n",
              "\n",
              "    .colab-df-convert:hover {\n",
              "      background-color: #E2EBFA;\n",
              "      box-shadow: 0px 1px 2px rgba(60, 64, 67, 0.3), 0px 1px 3px 1px rgba(60, 64, 67, 0.15);\n",
              "      fill: #174EA6;\n",
              "    }\n",
              "\n",
              "    [theme=dark] .colab-df-convert {\n",
              "      background-color: #3B4455;\n",
              "      fill: #D2E3FC;\n",
              "    }\n",
              "\n",
              "    [theme=dark] .colab-df-convert:hover {\n",
              "      background-color: #434B5C;\n",
              "      box-shadow: 0px 1px 3px 1px rgba(0, 0, 0, 0.15);\n",
              "      filter: drop-shadow(0px 1px 2px rgba(0, 0, 0, 0.3));\n",
              "      fill: #FFFFFF;\n",
              "    }\n",
              "  </style>\n",
              "\n",
              "      <script>\n",
              "        const buttonEl =\n",
              "          document.querySelector('#df-5336854f-28a8-4214-b2c2-f288e8738ac4 button.colab-df-convert');\n",
              "        buttonEl.style.display =\n",
              "          google.colab.kernel.accessAllowed ? 'block' : 'none';\n",
              "\n",
              "        async function convertToInteractive(key) {\n",
              "          const element = document.querySelector('#df-5336854f-28a8-4214-b2c2-f288e8738ac4');\n",
              "          const dataTable =\n",
              "            await google.colab.kernel.invokeFunction('convertToInteractive',\n",
              "                                                     [key], {});\n",
              "          if (!dataTable) return;\n",
              "\n",
              "          const docLinkHtml = 'Like what you see? Visit the ' +\n",
              "            '<a target=\"_blank\" href=https://colab.research.google.com/notebooks/data_table.ipynb>data table notebook</a>'\n",
              "            + ' to learn more about interactive tables.';\n",
              "          element.innerHTML = '';\n",
              "          dataTable['output_type'] = 'display_data';\n",
              "          await google.colab.output.renderOutput(dataTable, element);\n",
              "          const docLink = document.createElement('div');\n",
              "          docLink.innerHTML = docLinkHtml;\n",
              "          element.appendChild(docLink);\n",
              "        }\n",
              "      </script>\n",
              "    </div>\n",
              "  </div>\n",
              "  "
            ]
          },
          "metadata": {},
          "execution_count": 5
        }
      ]
    },
    {
      "cell_type": "markdown",
      "source": [
        "### 불용어 제거"
      ],
      "metadata": {
        "id": "X6dyavu5Ceie"
      }
    },
    {
      "cell_type": "code",
      "source": [
        "text = ''\n",
        "review = []\n",
        "for each_line in df['content']:\n",
        "  review.append(each_line)"
      ],
      "metadata": {
        "id": "y5xust-pCWz7"
      },
      "execution_count": null,
      "outputs": []
    },
    {
      "cell_type": "code",
      "source": [
        "def clean_str(text):\n",
        "  pattern = '([ㄱ-ㅎㅏ-ㅣ]+)'  # 한글 자음, 모음 제거\n",
        "  text = re.sub(pattern=pattern, repl='', string=text)\n",
        "  pattern = '<[^>]*>'         # HTML 태그 제거\n",
        "  text = re.sub(pattern=pattern, repl='', string=text)\n",
        "  pattern = '[^\\w\\s]'         # 특수기호제거\n",
        "  text = re.sub(pattern=pattern, repl='', string=text)\n",
        "  return text \n",
        "\n",
        "# 불용어 제거한 review 저장\n",
        "review_ = []\n",
        "for i in review:\n",
        "  a = clean_str(i)\n",
        "  review_.append(a)"
      ],
      "metadata": {
        "id": "ZclJZw8FFJoJ"
      },
      "execution_count": null,
      "outputs": []
    },
    {
      "cell_type": "code",
      "source": [
        "print(\"Before Stopwords : \", review[239])\n",
        "print(\"After Stopwords : \", review_[239])"
      ],
      "metadata": {
        "colab": {
          "base_uri": "https://localhost:8080/"
        },
        "id": "CaXPHBAfFSBS",
        "outputId": "159c3681-a0dd-4ccd-aac0-3d748dacbb3d"
      },
      "execution_count": null,
      "outputs": [
        {
          "output_type": "stream",
          "name": "stdout",
          "text": [
            "Before Stopwords :  앱이 심심하면 안열리나봐요^^ 개짜증나네요 업데이트 안하면 안열리는거면 자동 업데이트로 이어지게 창이라도 띄웠으면 합니다. 업데이트는 툭하면 하는데 할때마다 영 열리지가 않으니 쓰라는건지말라는건지\n",
            "After Stopwords :  앱이 심심하면 안열리나봐요 개짜증나네요 업데이트 안하면 안열리는거면 자동 업데이트로 이어지게 창이라도 띄웠으면 합니다 업데이트는 툭하면 하는데 할때마다 영 열리지가 않으니 쓰라는건지말라는건지\n"
          ]
        }
      ]
    },
    {
      "cell_type": "markdown",
      "source": [
        "### 한글 표현만 남기기"
      ],
      "metadata": {
        "id": "yTGsx8FoFT_U"
      }
    },
    {
      "cell_type": "code",
      "source": [
        "def extract_word(text):\n",
        "    hangul = re.compile('[^가-힣]') \n",
        "    result = hangul.sub(' ', text) \n",
        "    return result"
      ],
      "metadata": {
        "id": "7AzIBfpQFWnZ"
      },
      "execution_count": null,
      "outputs": []
    },
    {
      "cell_type": "code",
      "source": [
        "print(\"Before Extraction : \",df['content'][135])\n",
        "print(\"After Extraction : \", extract_word(df['content'][135]))\n",
        "print(\"Before Extraction : \",df['content'][206])\n",
        "print(\"After Extraction : \", extract_word(df['content'][206]))"
      ],
      "metadata": {
        "colab": {
          "base_uri": "https://localhost:8080/"
        },
        "id": "MSQAYsq6Fjpg",
        "outputId": "a5c1b1ab-74e6-4907-a8bb-86a9a2bd60e0"
      },
      "execution_count": null,
      "outputs": [
        {
          "output_type": "stream",
          "name": "stdout",
          "text": [
            "Before Extraction :  알림시 진동안울림 !!!, 실행시 파란배경로고 나오기전 자주색+보라색 같은 배경이 먼저나옴 엄청 거슬림, 앱 전체가 너무 무거움 (기기 최신기종임)\n",
            "After Extraction :  알림시 진동안울림      실행시 파란배경로고 나오기전 자주색 보라색 같은 배경이 먼저나옴 엄청 거슬림  앱 전체가 너무 무거움  기기 최신기종임 \n",
            "Before Extraction :  업데이트 하고 나니 귀신같이 푸쉬알림 잘울림 ㅋㅋㅋㅋㅋㅋ개뿔 ㅋㅋㅋ 다시 고요해짐 ㅋㅋㅋ\n",
            "After Extraction :  업데이트 하고 나니 귀신같이 푸쉬알림 잘울림       개뿔     다시 고요해짐    \n"
          ]
        }
      ]
    },
    {
      "cell_type": "markdown",
      "source": [
        "### 띄어쓰기 고치기"
      ],
      "metadata": {
        "id": "nQaCUqunF3Sq"
      }
    },
    {
      "cell_type": "code",
      "source": [
        "def no_space(text):\n",
        "  text1 = re.sub('&nbsp;|&nbsp;|\\n|\\t|\\r', '', text)\n",
        "  text2 = re.sub('\\n\\n','', text1)\n",
        "  return text2"
      ],
      "metadata": {
        "id": "RRhO8k99F5N5"
      },
      "execution_count": null,
      "outputs": []
    },
    {
      "cell_type": "code",
      "source": [
        "spacing = Spacing()\n",
        "\n",
        "print(\"Before Fixing : \",df['content'][123])\n",
        "print(\"After Fixing : \", spacing(df['content'][123]))\n",
        "print(\"Before Fixing : \",df['content'][258])\n",
        "print(\"After Fixing : \", spacing(df['content'][258]))"
      ],
      "metadata": {
        "colab": {
          "base_uri": "https://localhost:8080/"
        },
        "id": "_4aWotkxF7yJ",
        "outputId": "324941c0-0ac6-45fa-a7d6-5b0cce1d5796"
      },
      "execution_count": null,
      "outputs": [
        {
          "output_type": "stream",
          "name": "stdout",
          "text": [
            "Before Fixing :  앱딱열면첫페이지가갑자기보이지않아요 괜찮았는데어느순간안되서삭제후다시깔았는데도 첫페이지는하얗게나와요. ㅠ계좌내역등을조회하려면마이페이지쪽으로가야만보여요ㅠㅠ\n",
            "After Fixing :  앱 딱 열면 첫 페이지가 갑자기 보이지 않아 요 괜찮았는데 어느 순간 안 되서 삭제 후 다시 깔았는데도 첫 페이지는 하얗게 나와요. ㅠ 계좌 내역 등을 조회하려면 마이페이지 쪽으로 가야만 보여 요ㅠㅠ\n",
            "Before Fixing :  케이뱅크켜면 얼마전부터 네트워크상태가 안좋다면서 다시깔아야해요 그리고는 초기로그인 딱한번만 제대로되요 데이터로도 와이파이로도 장소도바꿔봤지만 계속그러네요 업데이트때문인지 불편해요\n",
            "After Fixing :  케이뱅크 켜면 얼마 전부터 네트워크 상태가 안 좋다면서 다시 깔아야 해요 그리고는 초기로그인 딱 한 번만 제대로 되요 데이터로도 와이파이로도 장소도 바꿔봤지만 계속 그러네요 업데이트 때문인지 불편해요\n"
          ]
        }
      ]
    },
    {
      "cell_type": "code",
      "source": [
        "# 전체 데이터에 적용\n",
        "df['content'] = df['content'].apply(lambda x:clean_str(x))\n",
        "df['content'] = df['content'].apply(lambda x:extract_word(x))\n",
        "df['content'] = df['content'].apply(lambda x:no_space(x))"
      ],
      "metadata": {
        "id": "bq-SUz3oFtwh"
      },
      "execution_count": null,
      "outputs": []
    },
    {
      "cell_type": "markdown",
      "source": [
        "### 형태소 추출"
      ],
      "metadata": {
        "id": "qrd_-E0MLo5C"
      }
    },
    {
      "cell_type": "code",
      "source": [
        "a = len(review_)  # 불용어 제거한 리뷰\n",
        "token_review_list=[]\n",
        "\n",
        "for i in range(0,a):\n",
        "  token_review = t.morphs(review_[i])\n",
        "  token_review_list.append(token_review)\n",
        "\n",
        "df['token_review'] = token_review_list"
      ],
      "metadata": {
        "id": "faBHmAgdLs12"
      },
      "execution_count": null,
      "outputs": []
    },
    {
      "cell_type": "code",
      "source": [
        "df"
      ],
      "metadata": {
        "colab": {
          "base_uri": "https://localhost:8080/",
          "height": 780
        },
        "id": "0tpmmtOxL0l3",
        "outputId": "3a340abe-fa61-429f-a181-df7d92787015"
      },
      "execution_count": null,
      "outputs": [
        {
          "output_type": "execute_result",
          "data": {
            "text/plain": [
              "          date  rating        userName  \\\n",
              "0     20220601       1              동동   \n",
              "1     20220626       2  Younghoon Jeon   \n",
              "2     20220629       1  Kuee Haeng Lee   \n",
              "3     20220709       3     brian lryan   \n",
              "4     20220625       5             박태준   \n",
              "...        ...     ...             ...   \n",
              "2035  20210506       1    사람이 꽃보다 아름다워   \n",
              "2036  20210816       1       Call Me K   \n",
              "2037  20210223       1            아주그냥   \n",
              "2038  20210413       1         zin lee   \n",
              "2039  20210403       5            칼세이건   \n",
              "\n",
              "                                                content  label  \\\n",
              "0     타 기관 인증서 불러오기가 안되는데 대체 무슨 일이죠 범용공동인증서를 등록하려고 하...      0   \n",
              "1     다른건 다 모르겠고 어플 켰을 때 메인 화면이 뜨기까지 시간 좀 더 단축시켜주세요 ...      0   \n",
              "2     타기관인증서를 갱신하면서 인증서가져오기를 수행했는데요   로 가져오기는 아예 안돼고...      0   \n",
              "3     갤럭시쓰는데 알림진동이 안 울립니다에티켓모드 아님 전에 리뷰보니까 다른분들도 동일증...      1   \n",
              "4     뭣같은 앱아이콘을 바꾼건 정말 좋네요 거기다 묘하게 앱 자체의 속도도 빨라진 느낌이...      1   \n",
              "...                                                 ...    ...   \n",
              "2035  갤럭시  사용 고객입니다 케이뱅크 앱이 실행이 안되고 로고만 뜨네요  일내내빠른 시...      0   \n",
              "2036  저는 당신들이 너무 싫습니다 잘쓰고 있던거를 못쓰게 하고 돈도 못보내고 정말 당신들...      0   \n",
              "2037                 접속을 못하네 인출좀 할려고 하니 상담원은 계속 통화중 지친다      0   \n",
              "2038  인증번호자체가 안오네요 삼성갤럭시    최신   시간은 오후  시부터 계속 쭉이요 ...      0   \n",
              "2039                         앱을설치하고 개설했는데 바탕화면에 앱이 안보여요      1   \n",
              "\n",
              "                                           token_review  \n",
              "0     [타, 기관, 인증서, 불러, 오기, 가, 안되는데, 대체, 무슨, 일이, 죠, 범...  \n",
              "1     [다른건, 다, 모르겠고, 어플, 켰을, 때, 메인, 화면, 이, 뜨기까지, 시간,...  \n",
              "2     [타, 기관, 인증서, 를, 갱신, 하면서, 인증서, 가져오기를, 수행, 했는데요,...  \n",
              "3     [갤럭시, 쓰는데, 알림, 진동, 이, 안, 울립니다, 에티켓, 모드, 아님, 전,...  \n",
              "4     [뭣같, 은, 앱, 아이콘, 을, 바꾼건, 정말, 좋네요, 거기, 다, 묘, 하게,...  \n",
              "...                                                 ...  \n",
              "2035  [갤럭시, s, 9, 사용, 고객, 입니다, 케이, 뱅크, 앱, 이, 실행, 이, ...  \n",
              "2036  [저, 는, 당신, 들, 이, 너무, 싫습니다, 잘쓰고, 있던거를, 못, 쓰게, 하...  \n",
              "2037  [접속, 을, 못, 하네, 인, 출, 좀, 할려고, 하니, 상담, 원, 은, 계속,...  \n",
              "2038  [인증, 번호, 자체, 가, 안오네요, 삼성, 갤럭시, S, 9, 최신, OS, 시...  \n",
              "2039     [앱, 을, 설치, 하고, 개설, 했는데, 바탕화면, 에, 앱, 이, 안보, 여요]  \n",
              "\n",
              "[2040 rows x 6 columns]"
            ],
            "text/html": [
              "\n",
              "  <div id=\"df-e172865d-f7e6-486d-8240-1bcefd96f711\">\n",
              "    <div class=\"colab-df-container\">\n",
              "      <div>\n",
              "<style scoped>\n",
              "    .dataframe tbody tr th:only-of-type {\n",
              "        vertical-align: middle;\n",
              "    }\n",
              "\n",
              "    .dataframe tbody tr th {\n",
              "        vertical-align: top;\n",
              "    }\n",
              "\n",
              "    .dataframe thead th {\n",
              "        text-align: right;\n",
              "    }\n",
              "</style>\n",
              "<table border=\"1\" class=\"dataframe\">\n",
              "  <thead>\n",
              "    <tr style=\"text-align: right;\">\n",
              "      <th></th>\n",
              "      <th>date</th>\n",
              "      <th>rating</th>\n",
              "      <th>userName</th>\n",
              "      <th>content</th>\n",
              "      <th>label</th>\n",
              "      <th>token_review</th>\n",
              "    </tr>\n",
              "  </thead>\n",
              "  <tbody>\n",
              "    <tr>\n",
              "      <th>0</th>\n",
              "      <td>20220601</td>\n",
              "      <td>1</td>\n",
              "      <td>동동</td>\n",
              "      <td>타 기관 인증서 불러오기가 안되는데 대체 무슨 일이죠 범용공동인증서를 등록하려고 하...</td>\n",
              "      <td>0</td>\n",
              "      <td>[타, 기관, 인증서, 불러, 오기, 가, 안되는데, 대체, 무슨, 일이, 죠, 범...</td>\n",
              "    </tr>\n",
              "    <tr>\n",
              "      <th>1</th>\n",
              "      <td>20220626</td>\n",
              "      <td>2</td>\n",
              "      <td>Younghoon Jeon</td>\n",
              "      <td>다른건 다 모르겠고 어플 켰을 때 메인 화면이 뜨기까지 시간 좀 더 단축시켜주세요 ...</td>\n",
              "      <td>0</td>\n",
              "      <td>[다른건, 다, 모르겠고, 어플, 켰을, 때, 메인, 화면, 이, 뜨기까지, 시간,...</td>\n",
              "    </tr>\n",
              "    <tr>\n",
              "      <th>2</th>\n",
              "      <td>20220629</td>\n",
              "      <td>1</td>\n",
              "      <td>Kuee Haeng Lee</td>\n",
              "      <td>타기관인증서를 갱신하면서 인증서가져오기를 수행했는데요   로 가져오기는 아예 안돼고...</td>\n",
              "      <td>0</td>\n",
              "      <td>[타, 기관, 인증서, 를, 갱신, 하면서, 인증서, 가져오기를, 수행, 했는데요,...</td>\n",
              "    </tr>\n",
              "    <tr>\n",
              "      <th>3</th>\n",
              "      <td>20220709</td>\n",
              "      <td>3</td>\n",
              "      <td>brian lryan</td>\n",
              "      <td>갤럭시쓰는데 알림진동이 안 울립니다에티켓모드 아님 전에 리뷰보니까 다른분들도 동일증...</td>\n",
              "      <td>1</td>\n",
              "      <td>[갤럭시, 쓰는데, 알림, 진동, 이, 안, 울립니다, 에티켓, 모드, 아님, 전,...</td>\n",
              "    </tr>\n",
              "    <tr>\n",
              "      <th>4</th>\n",
              "      <td>20220625</td>\n",
              "      <td>5</td>\n",
              "      <td>박태준</td>\n",
              "      <td>뭣같은 앱아이콘을 바꾼건 정말 좋네요 거기다 묘하게 앱 자체의 속도도 빨라진 느낌이...</td>\n",
              "      <td>1</td>\n",
              "      <td>[뭣같, 은, 앱, 아이콘, 을, 바꾼건, 정말, 좋네요, 거기, 다, 묘, 하게,...</td>\n",
              "    </tr>\n",
              "    <tr>\n",
              "      <th>...</th>\n",
              "      <td>...</td>\n",
              "      <td>...</td>\n",
              "      <td>...</td>\n",
              "      <td>...</td>\n",
              "      <td>...</td>\n",
              "      <td>...</td>\n",
              "    </tr>\n",
              "    <tr>\n",
              "      <th>2035</th>\n",
              "      <td>20210506</td>\n",
              "      <td>1</td>\n",
              "      <td>사람이 꽃보다 아름다워</td>\n",
              "      <td>갤럭시  사용 고객입니다 케이뱅크 앱이 실행이 안되고 로고만 뜨네요  일내내빠른 시...</td>\n",
              "      <td>0</td>\n",
              "      <td>[갤럭시, s, 9, 사용, 고객, 입니다, 케이, 뱅크, 앱, 이, 실행, 이, ...</td>\n",
              "    </tr>\n",
              "    <tr>\n",
              "      <th>2036</th>\n",
              "      <td>20210816</td>\n",
              "      <td>1</td>\n",
              "      <td>Call Me K</td>\n",
              "      <td>저는 당신들이 너무 싫습니다 잘쓰고 있던거를 못쓰게 하고 돈도 못보내고 정말 당신들...</td>\n",
              "      <td>0</td>\n",
              "      <td>[저, 는, 당신, 들, 이, 너무, 싫습니다, 잘쓰고, 있던거를, 못, 쓰게, 하...</td>\n",
              "    </tr>\n",
              "    <tr>\n",
              "      <th>2037</th>\n",
              "      <td>20210223</td>\n",
              "      <td>1</td>\n",
              "      <td>아주그냥</td>\n",
              "      <td>접속을 못하네 인출좀 할려고 하니 상담원은 계속 통화중 지친다</td>\n",
              "      <td>0</td>\n",
              "      <td>[접속, 을, 못, 하네, 인, 출, 좀, 할려고, 하니, 상담, 원, 은, 계속,...</td>\n",
              "    </tr>\n",
              "    <tr>\n",
              "      <th>2038</th>\n",
              "      <td>20210413</td>\n",
              "      <td>1</td>\n",
              "      <td>zin lee</td>\n",
              "      <td>인증번호자체가 안오네요 삼성갤럭시    최신   시간은 오후  시부터 계속 쭉이요 ...</td>\n",
              "      <td>0</td>\n",
              "      <td>[인증, 번호, 자체, 가, 안오네요, 삼성, 갤럭시, S, 9, 최신, OS, 시...</td>\n",
              "    </tr>\n",
              "    <tr>\n",
              "      <th>2039</th>\n",
              "      <td>20210403</td>\n",
              "      <td>5</td>\n",
              "      <td>칼세이건</td>\n",
              "      <td>앱을설치하고 개설했는데 바탕화면에 앱이 안보여요</td>\n",
              "      <td>1</td>\n",
              "      <td>[앱, 을, 설치, 하고, 개설, 했는데, 바탕화면, 에, 앱, 이, 안보, 여요]</td>\n",
              "    </tr>\n",
              "  </tbody>\n",
              "</table>\n",
              "<p>2040 rows × 6 columns</p>\n",
              "</div>\n",
              "      <button class=\"colab-df-convert\" onclick=\"convertToInteractive('df-e172865d-f7e6-486d-8240-1bcefd96f711')\"\n",
              "              title=\"Convert this dataframe to an interactive table.\"\n",
              "              style=\"display:none;\">\n",
              "        \n",
              "  <svg xmlns=\"http://www.w3.org/2000/svg\" height=\"24px\"viewBox=\"0 0 24 24\"\n",
              "       width=\"24px\">\n",
              "    <path d=\"M0 0h24v24H0V0z\" fill=\"none\"/>\n",
              "    <path d=\"M18.56 5.44l.94 2.06.94-2.06 2.06-.94-2.06-.94-.94-2.06-.94 2.06-2.06.94zm-11 1L8.5 8.5l.94-2.06 2.06-.94-2.06-.94L8.5 2.5l-.94 2.06-2.06.94zm10 10l.94 2.06.94-2.06 2.06-.94-2.06-.94-.94-2.06-.94 2.06-2.06.94z\"/><path d=\"M17.41 7.96l-1.37-1.37c-.4-.4-.92-.59-1.43-.59-.52 0-1.04.2-1.43.59L10.3 9.45l-7.72 7.72c-.78.78-.78 2.05 0 2.83L4 21.41c.39.39.9.59 1.41.59.51 0 1.02-.2 1.41-.59l7.78-7.78 2.81-2.81c.8-.78.8-2.07 0-2.86zM5.41 20L4 18.59l7.72-7.72 1.47 1.35L5.41 20z\"/>\n",
              "  </svg>\n",
              "      </button>\n",
              "      \n",
              "  <style>\n",
              "    .colab-df-container {\n",
              "      display:flex;\n",
              "      flex-wrap:wrap;\n",
              "      gap: 12px;\n",
              "    }\n",
              "\n",
              "    .colab-df-convert {\n",
              "      background-color: #E8F0FE;\n",
              "      border: none;\n",
              "      border-radius: 50%;\n",
              "      cursor: pointer;\n",
              "      display: none;\n",
              "      fill: #1967D2;\n",
              "      height: 32px;\n",
              "      padding: 0 0 0 0;\n",
              "      width: 32px;\n",
              "    }\n",
              "\n",
              "    .colab-df-convert:hover {\n",
              "      background-color: #E2EBFA;\n",
              "      box-shadow: 0px 1px 2px rgba(60, 64, 67, 0.3), 0px 1px 3px 1px rgba(60, 64, 67, 0.15);\n",
              "      fill: #174EA6;\n",
              "    }\n",
              "\n",
              "    [theme=dark] .colab-df-convert {\n",
              "      background-color: #3B4455;\n",
              "      fill: #D2E3FC;\n",
              "    }\n",
              "\n",
              "    [theme=dark] .colab-df-convert:hover {\n",
              "      background-color: #434B5C;\n",
              "      box-shadow: 0px 1px 3px 1px rgba(0, 0, 0, 0.15);\n",
              "      filter: drop-shadow(0px 1px 2px rgba(0, 0, 0, 0.3));\n",
              "      fill: #FFFFFF;\n",
              "    }\n",
              "  </style>\n",
              "\n",
              "      <script>\n",
              "        const buttonEl =\n",
              "          document.querySelector('#df-e172865d-f7e6-486d-8240-1bcefd96f711 button.colab-df-convert');\n",
              "        buttonEl.style.display =\n",
              "          google.colab.kernel.accessAllowed ? 'block' : 'none';\n",
              "\n",
              "        async function convertToInteractive(key) {\n",
              "          const element = document.querySelector('#df-e172865d-f7e6-486d-8240-1bcefd96f711');\n",
              "          const dataTable =\n",
              "            await google.colab.kernel.invokeFunction('convertToInteractive',\n",
              "                                                     [key], {});\n",
              "          if (!dataTable) return;\n",
              "\n",
              "          const docLinkHtml = 'Like what you see? Visit the ' +\n",
              "            '<a target=\"_blank\" href=https://colab.research.google.com/notebooks/data_table.ipynb>data table notebook</a>'\n",
              "            + ' to learn more about interactive tables.';\n",
              "          element.innerHTML = '';\n",
              "          dataTable['output_type'] = 'display_data';\n",
              "          await google.colab.output.renderOutput(dataTable, element);\n",
              "          const docLink = document.createElement('div');\n",
              "          docLink.innerHTML = docLinkHtml;\n",
              "          element.appendChild(docLink);\n",
              "        }\n",
              "      </script>\n",
              "    </div>\n",
              "  </div>\n",
              "  "
            ]
          },
          "metadata": {},
          "execution_count": 17
        }
      ]
    },
    {
      "cell_type": "markdown",
      "source": [
        "### 학습 데이터 구분"
      ],
      "metadata": {
        "id": "_Mkhb2gLHyWM"
      }
    },
    {
      "cell_type": "code",
      "source": [
        "train_data,test_data=train_test_split(df,test_size=.25,random_state=42)"
      ],
      "metadata": {
        "id": "oyK0ArMzJxzV"
      },
      "execution_count": null,
      "outputs": []
    },
    {
      "cell_type": "code",
      "source": [
        "# train용 리뷰 처리\n",
        "train_number_list=[]\n",
        "for num in range(len(train_data)):\n",
        "    train_number_list.append(num)\n",
        "    \n",
        "\n",
        "train_data['index']=train_number_list\n",
        "train_data=train_data.set_index(['index'])\n",
        "\n",
        "train_data['content'].nunique(),\n",
        "train_data['rating'].nunique(),\n",
        "train_data['label'].nunique()\n",
        "\n",
        "train_data.drop_duplicates(subset=['content'],inplace=True)"
      ],
      "metadata": {
        "id": "EARO5V5FHC2E"
      },
      "execution_count": null,
      "outputs": []
    },
    {
      "cell_type": "code",
      "source": [
        "print(\"총 샘플의 개수: \",len(train_data))"
      ],
      "metadata": {
        "colab": {
          "base_uri": "https://localhost:8080/"
        },
        "id": "Yof8OOB3HV-9",
        "outputId": "076e9ce1-5577-4c16-b196-02c82bedf279"
      },
      "execution_count": null,
      "outputs": [
        {
          "output_type": "stream",
          "name": "stdout",
          "text": [
            "총 샘플의 개수:  1530\n"
          ]
        }
      ]
    },
    {
      "cell_type": "code",
      "source": [
        "# test용 리뷰 처리\n",
        "test_number_list = []\n",
        "\n",
        "for num in range(len(test_data)):\n",
        "  test_number_list.append(num)\n",
        "\n",
        "test_data['index']=test_number_list\n",
        "test_data=test_data.set_index(['index'])\n",
        "\n",
        "test_data['content'].nunique(),\n",
        "test_data['rating'].nunique()\n",
        "test_data['label'].nunique()\n",
        "\n",
        "test_data.drop_duplicates(subset=['content'],inplace=True)"
      ],
      "metadata": {
        "id": "Jk92kzdkGb2T"
      },
      "execution_count": null,
      "outputs": []
    },
    {
      "cell_type": "code",
      "source": [
        "print(\"총 샘플의 개수: \",len(test_data))"
      ],
      "metadata": {
        "colab": {
          "base_uri": "https://localhost:8080/"
        },
        "id": "HpC1HrChHCMC",
        "outputId": "f8a16d9f-84b9-4e0f-a116-a6eb25647788"
      },
      "execution_count": null,
      "outputs": [
        {
          "output_type": "stream",
          "name": "stdout",
          "text": [
            "총 샘플의 개수:  510\n"
          ]
        }
      ]
    },
    {
      "cell_type": "code",
      "source": [
        "# 전처리 내용 저장\n",
        "test_data.to_pickle(\"/content/data/test_data.pkl\")\n",
        "train_data.to_pickle(\"/content/data/train_data.pkl\")"
      ],
      "metadata": {
        "id": "pMy4aP3jMJzn"
      },
      "execution_count": null,
      "outputs": []
    },
    {
      "cell_type": "code",
      "source": [
        "# 다시 읽어오기\n",
        "test_data = pd.read_pickle(\"/content/data/test_data.pkl\")\n",
        "train_data = pd.read_pickle(\"/content/data/train_data.pkl\")"
      ],
      "metadata": {
        "id": "_xzN5z9TKxzQ"
      },
      "execution_count": null,
      "outputs": []
    },
    {
      "cell_type": "code",
      "source": [
        "# train, test data 토큰화 \n",
        "okt=Okt()\n",
        "test_data = pd.read_pickle(\"/content/data/test_data.pkl\")\n",
        "train_data = pd.read_pickle(\"/content/data/train_data.pkl\")\n",
        "stopwords = ['도', '는', '다', '의', '가', '이', '은', '한', '에', '하', '고', '을', '를', '인', '듯', '과', '와', '네', '들', '듯', '지', '임', '게','요','거','로','으로',\n",
        "            '것','수','할','하는','제','에서','그','데','번','해도','죠','된','건','바','구','세']\n",
        "test_data['tokenized']=test_data['content'].apply(t.morphs)\n",
        "test_data['tokenized']=test_data['tokenized'].apply(lambda x: [item for item in x if item not in stopwords])\n",
        "train_data['tokenized']=train_data['content'].apply(okt.morphs)\n",
        "train_data['tokenized']=train_data['tokenized'].apply(lambda x: [item for item in x if item not in stopwords])"
      ],
      "metadata": {
        "id": "c01UfQplH44y"
      },
      "execution_count": null,
      "outputs": []
    }
  ]
}
