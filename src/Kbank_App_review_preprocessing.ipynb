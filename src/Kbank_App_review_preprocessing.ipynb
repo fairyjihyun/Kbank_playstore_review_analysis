{
  "nbformat": 4,
  "nbformat_minor": 0,
  "metadata": {
    "colab": {
      "name": "Kbank_App_review_preprocessing.ipynb의 사본",
      "provenance": [],
      "collapsed_sections": [],
      "machine_shape": "hm",
      "authorship_tag": "ABX9TyOeHOR0+s8vgRukLrBGw3ki",
      "include_colab_link": true
    },
    "kernelspec": {
      "name": "python3",
      "display_name": "Python 3"
    },
    "language_info": {
      "name": "python"
    },
    "accelerator": "GPU",
    "gpuClass": "standard"
  },
  "cells": [
    {
      "cell_type": "markdown",
      "metadata": {
        "id": "view-in-github",
        "colab_type": "text"
      },
      "source": [
        "<a href=\"https://colab.research.google.com/github/hamsterjoa/Kbank_playstore_review_analysis/blob/master/Kbank_App_review_preprocessing.ipynb\" target=\"_parent\"><img src=\"https://colab.research.google.com/assets/colab-badge.svg\" alt=\"Open In Colab\"/></a>"
      ]
    },
    {
      "cell_type": "code",
      "source": [
        "import os, sys  \n",
        "from google.colab import drive\n",
        "drive.mount('/content/drive')"
      ],
      "metadata": {
        "colab": {
          "base_uri": "https://localhost:8080/"
        },
        "id": "utMjTuvt5pQF",
        "outputId": "99e8b1c1-8ae8-446e-de7e-d0852baa5abe"
      },
      "execution_count": 1,
      "outputs": [
        {
          "output_type": "stream",
          "name": "stdout",
          "text": [
            "Drive already mounted at /content/drive; to attempt to forcibly remount, call drive.mount(\"/content/drive\", force_remount=True).\n"
          ]
        }
      ]
    },
    {
      "cell_type": "code",
      "source": [
        "!pip install git+https://github.com/haven-jeon/PyKoSpacing.git\n",
        "!pip install customized_konlpy"
      ],
      "metadata": {
        "id": "7M57ooaJMlW5"
      },
      "execution_count": null,
      "outputs": []
    },
    {
      "cell_type": "code",
      "source": [
        "import io\n",
        "import pandas as pd\n",
        "import numpy as np\n",
        "\n",
        "import re\n",
        "import nltk\n",
        "import pickle\n",
        "from konlpy.tag import Okt; t=Okt()\n",
        "from tqdm import tqdm\n",
        "from pykospacing import Spacing\n",
        "from collections import Counter\n",
        "import urllib.request\n",
        "from tensorflow import keras\n",
        "from tensorflow.keras.preprocessing.text import Tokenizer\n",
        "from tensorflow.keras.preprocessing.sequence import pad_sequences\n",
        "from sklearn.model_selection import train_test_split"
      ],
      "metadata": {
        "id": "59jNABoL2p96"
      },
      "execution_count": 2,
      "outputs": []
    },
    {
      "cell_type": "code",
      "source": [
        "from google.colab import files\n",
        "\n",
        "uploaded = files.upload()\n",
        "\n",
        "for fn in uploaded.keys():\n",
        "  print('User uploaded file \"{name}\" with length{length} bytes'.format(name=fn, length=len(uploaded[fn])))"
      ],
      "metadata": {
        "colab": {
          "resources": {
            "http://localhost:8080/nbextensions/google.colab/files.js": {
              "data": "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",
              "ok": true,
              "headers": [
                [
                  "content-type",
                  "application/javascript"
                ]
              ],
              "status": 200,
              "status_text": ""
            }
          },
          "base_uri": "https://localhost:8080/",
          "height": 95
        },
        "id": "ru7SmMes2lcC",
        "outputId": "3548dfae-63e7-4523-fa15-5de40e0362f8"
      },
      "execution_count": 3,
      "outputs": [
        {
          "output_type": "display_data",
          "data": {
            "text/plain": [
              "<IPython.core.display.HTML object>"
            ],
            "text/html": [
              "\n",
              "     <input type=\"file\" id=\"files-473607e5-38a6-425f-a631-3b1997af10a1\" name=\"files[]\" multiple disabled\n",
              "        style=\"border:none\" />\n",
              "     <output id=\"result-473607e5-38a6-425f-a631-3b1997af10a1\">\n",
              "      Upload widget is only available when the cell has been executed in the\n",
              "      current browser session. Please rerun this cell to enable.\n",
              "      </output>\n",
              "      <script src=\"/nbextensions/google.colab/files.js\"></script> "
            ]
          },
          "metadata": {}
        },
        {
          "output_type": "stream",
          "name": "stdout",
          "text": [
            "Saving review_dataset.csv to review_dataset (2).csv\n",
            "User uploaded file \"review_dataset.csv\" with length553990 bytes\n"
          ]
        }
      ]
    },
    {
      "cell_type": "code",
      "source": [
        "df = pd.read_csv(io.StringIO(uploaded['review_dataset.csv'].decode('utf-8')))\n",
        "df.drop(['Unnamed: 0','id','date','dateYear','dateMonth','dateDay','userName'], axis = 1, inplace=True)\n",
        "# strict한 기준으로 판단하기 위해 3점까지는 label 0, 4점부터는 label 1\n",
        "df['label'] = np.select([df.rating>3],[1],default=0)\n",
        "# 데이터 확인\n",
        "df"
      ],
      "metadata": {
        "colab": {
          "base_uri": "https://localhost:8080/",
          "height": 424
        },
        "id": "QbTFKx5C3Bdd",
        "outputId": "cbbd4eb4-f29f-43fc-82eb-381ab4d0ff1e"
      },
      "execution_count": 27,
      "outputs": [
        {
          "output_type": "execute_result",
          "data": {
            "text/plain": [
              "      rating                                            content  label\n",
              "0          1  타 기관 인증서 불러오기가 안되는데 대체 무슨 일이죠?? 범용공동인증서를 등록하려고...      0\n",
              "1          2  다른건 다 모르겠고 어플 켰을 때 메인 화면이 뜨기까지 시간 좀 더 단축시켜주세요....      0\n",
              "2          1  타기관인증서를 갱신하면서 인증서가져오기를 수행했는데요. QR로 가져오기는 아예 안돼...      0\n",
              "3          3  갤럭시쓰는데 알림진동이 안 울립니다.(에티켓모드 아님) 전에 리뷰보니까 다른분들도 ...      0\n",
              "4          5  뭣같은 앱아이콘을 바꾼건 정말 좋네요. 거기다 묘하게 앱 자체의 속도도 빨라진 느낌...      1\n",
              "...      ...                                                ...    ...\n",
              "2035       1  갤럭시s9+사용 고객입니다.. 케이뱅크 앱이 실행이 안되고 로고만 뜨네요.. 3일내...      0\n",
              "2036       1  저는 당신들이 너무 싫습니다. 잘쓰고 있던거를 못쓰게 하고 돈도 못보내고 정말 당신...      0\n",
              "2037       1              접속을 못하네 인출좀 할려고 하니 상담원은 계속 통화중... 지친다      0\n",
              "2038       1  인증번호자체가 안오네요 삼성갤럭시 S9 최신OS 시간은 오후 8시부터 계속~ 쭉이요...      0\n",
              "2039       5                        앱을설치하고 개설했는데 바탕화면에 앱이 안보여요!      1\n",
              "\n",
              "[2040 rows x 3 columns]"
            ],
            "text/html": [
              "\n",
              "  <div id=\"df-0c2c299e-c6cc-4c16-881c-705905aac047\">\n",
              "    <div class=\"colab-df-container\">\n",
              "      <div>\n",
              "<style scoped>\n",
              "    .dataframe tbody tr th:only-of-type {\n",
              "        vertical-align: middle;\n",
              "    }\n",
              "\n",
              "    .dataframe tbody tr th {\n",
              "        vertical-align: top;\n",
              "    }\n",
              "\n",
              "    .dataframe thead th {\n",
              "        text-align: right;\n",
              "    }\n",
              "</style>\n",
              "<table border=\"1\" class=\"dataframe\">\n",
              "  <thead>\n",
              "    <tr style=\"text-align: right;\">\n",
              "      <th></th>\n",
              "      <th>rating</th>\n",
              "      <th>content</th>\n",
              "      <th>label</th>\n",
              "    </tr>\n",
              "  </thead>\n",
              "  <tbody>\n",
              "    <tr>\n",
              "      <th>0</th>\n",
              "      <td>1</td>\n",
              "      <td>타 기관 인증서 불러오기가 안되는데 대체 무슨 일이죠?? 범용공동인증서를 등록하려고...</td>\n",
              "      <td>0</td>\n",
              "    </tr>\n",
              "    <tr>\n",
              "      <th>1</th>\n",
              "      <td>2</td>\n",
              "      <td>다른건 다 모르겠고 어플 켰을 때 메인 화면이 뜨기까지 시간 좀 더 단축시켜주세요....</td>\n",
              "      <td>0</td>\n",
              "    </tr>\n",
              "    <tr>\n",
              "      <th>2</th>\n",
              "      <td>1</td>\n",
              "      <td>타기관인증서를 갱신하면서 인증서가져오기를 수행했는데요. QR로 가져오기는 아예 안돼...</td>\n",
              "      <td>0</td>\n",
              "    </tr>\n",
              "    <tr>\n",
              "      <th>3</th>\n",
              "      <td>3</td>\n",
              "      <td>갤럭시쓰는데 알림진동이 안 울립니다.(에티켓모드 아님) 전에 리뷰보니까 다른분들도 ...</td>\n",
              "      <td>0</td>\n",
              "    </tr>\n",
              "    <tr>\n",
              "      <th>4</th>\n",
              "      <td>5</td>\n",
              "      <td>뭣같은 앱아이콘을 바꾼건 정말 좋네요. 거기다 묘하게 앱 자체의 속도도 빨라진 느낌...</td>\n",
              "      <td>1</td>\n",
              "    </tr>\n",
              "    <tr>\n",
              "      <th>...</th>\n",
              "      <td>...</td>\n",
              "      <td>...</td>\n",
              "      <td>...</td>\n",
              "    </tr>\n",
              "    <tr>\n",
              "      <th>2035</th>\n",
              "      <td>1</td>\n",
              "      <td>갤럭시s9+사용 고객입니다.. 케이뱅크 앱이 실행이 안되고 로고만 뜨네요.. 3일내...</td>\n",
              "      <td>0</td>\n",
              "    </tr>\n",
              "    <tr>\n",
              "      <th>2036</th>\n",
              "      <td>1</td>\n",
              "      <td>저는 당신들이 너무 싫습니다. 잘쓰고 있던거를 못쓰게 하고 돈도 못보내고 정말 당신...</td>\n",
              "      <td>0</td>\n",
              "    </tr>\n",
              "    <tr>\n",
              "      <th>2037</th>\n",
              "      <td>1</td>\n",
              "      <td>접속을 못하네 인출좀 할려고 하니 상담원은 계속 통화중... 지친다</td>\n",
              "      <td>0</td>\n",
              "    </tr>\n",
              "    <tr>\n",
              "      <th>2038</th>\n",
              "      <td>1</td>\n",
              "      <td>인증번호자체가 안오네요 삼성갤럭시 S9 최신OS 시간은 오후 8시부터 계속~ 쭉이요...</td>\n",
              "      <td>0</td>\n",
              "    </tr>\n",
              "    <tr>\n",
              "      <th>2039</th>\n",
              "      <td>5</td>\n",
              "      <td>앱을설치하고 개설했는데 바탕화면에 앱이 안보여요!</td>\n",
              "      <td>1</td>\n",
              "    </tr>\n",
              "  </tbody>\n",
              "</table>\n",
              "<p>2040 rows × 3 columns</p>\n",
              "</div>\n",
              "      <button class=\"colab-df-convert\" onclick=\"convertToInteractive('df-0c2c299e-c6cc-4c16-881c-705905aac047')\"\n",
              "              title=\"Convert this dataframe to an interactive table.\"\n",
              "              style=\"display:none;\">\n",
              "        \n",
              "  <svg xmlns=\"http://www.w3.org/2000/svg\" height=\"24px\"viewBox=\"0 0 24 24\"\n",
              "       width=\"24px\">\n",
              "    <path d=\"M0 0h24v24H0V0z\" fill=\"none\"/>\n",
              "    <path d=\"M18.56 5.44l.94 2.06.94-2.06 2.06-.94-2.06-.94-.94-2.06-.94 2.06-2.06.94zm-11 1L8.5 8.5l.94-2.06 2.06-.94-2.06-.94L8.5 2.5l-.94 2.06-2.06.94zm10 10l.94 2.06.94-2.06 2.06-.94-2.06-.94-.94-2.06-.94 2.06-2.06.94z\"/><path d=\"M17.41 7.96l-1.37-1.37c-.4-.4-.92-.59-1.43-.59-.52 0-1.04.2-1.43.59L10.3 9.45l-7.72 7.72c-.78.78-.78 2.05 0 2.83L4 21.41c.39.39.9.59 1.41.59.51 0 1.02-.2 1.41-.59l7.78-7.78 2.81-2.81c.8-.78.8-2.07 0-2.86zM5.41 20L4 18.59l7.72-7.72 1.47 1.35L5.41 20z\"/>\n",
              "  </svg>\n",
              "      </button>\n",
              "      \n",
              "  <style>\n",
              "    .colab-df-container {\n",
              "      display:flex;\n",
              "      flex-wrap:wrap;\n",
              "      gap: 12px;\n",
              "    }\n",
              "\n",
              "    .colab-df-convert {\n",
              "      background-color: #E8F0FE;\n",
              "      border: none;\n",
              "      border-radius: 50%;\n",
              "      cursor: pointer;\n",
              "      display: none;\n",
              "      fill: #1967D2;\n",
              "      height: 32px;\n",
              "      padding: 0 0 0 0;\n",
              "      width: 32px;\n",
              "    }\n",
              "\n",
              "    .colab-df-convert:hover {\n",
              "      background-color: #E2EBFA;\n",
              "      box-shadow: 0px 1px 2px rgba(60, 64, 67, 0.3), 0px 1px 3px 1px rgba(60, 64, 67, 0.15);\n",
              "      fill: #174EA6;\n",
              "    }\n",
              "\n",
              "    [theme=dark] .colab-df-convert {\n",
              "      background-color: #3B4455;\n",
              "      fill: #D2E3FC;\n",
              "    }\n",
              "\n",
              "    [theme=dark] .colab-df-convert:hover {\n",
              "      background-color: #434B5C;\n",
              "      box-shadow: 0px 1px 3px 1px rgba(0, 0, 0, 0.15);\n",
              "      filter: drop-shadow(0px 1px 2px rgba(0, 0, 0, 0.3));\n",
              "      fill: #FFFFFF;\n",
              "    }\n",
              "  </style>\n",
              "\n",
              "      <script>\n",
              "        const buttonEl =\n",
              "          document.querySelector('#df-0c2c299e-c6cc-4c16-881c-705905aac047 button.colab-df-convert');\n",
              "        buttonEl.style.display =\n",
              "          google.colab.kernel.accessAllowed ? 'block' : 'none';\n",
              "\n",
              "        async function convertToInteractive(key) {\n",
              "          const element = document.querySelector('#df-0c2c299e-c6cc-4c16-881c-705905aac047');\n",
              "          const dataTable =\n",
              "            await google.colab.kernel.invokeFunction('convertToInteractive',\n",
              "                                                     [key], {});\n",
              "          if (!dataTable) return;\n",
              "\n",
              "          const docLinkHtml = 'Like what you see? Visit the ' +\n",
              "            '<a target=\"_blank\" href=https://colab.research.google.com/notebooks/data_table.ipynb>data table notebook</a>'\n",
              "            + ' to learn more about interactive tables.';\n",
              "          element.innerHTML = '';\n",
              "          dataTable['output_type'] = 'display_data';\n",
              "          await google.colab.output.renderOutput(dataTable, element);\n",
              "          const docLink = document.createElement('div');\n",
              "          docLink.innerHTML = docLinkHtml;\n",
              "          element.appendChild(docLink);\n",
              "        }\n",
              "      </script>\n",
              "    </div>\n",
              "  </div>\n",
              "  "
            ]
          },
          "metadata": {},
          "execution_count": 27
        }
      ]
    },
    {
      "cell_type": "markdown",
      "source": [
        "#### 데이터는 분석에 최신 경향을 반영하기 위해 2021년 4월 3일 데이터부터 받아왔습니다. (더 많은 데이터를 받아오려면 Kbank_App_review.ipynb에서 pause_time의 최소, 최댓값을 더 늘리시면 됩니다.)"
      ],
      "metadata": {
        "id": "WcqBnmR3mcDN"
      }
    },
    {
      "cell_type": "markdown",
      "source": [
        "## **불용어 제거**"
      ],
      "metadata": {
        "id": "X6dyavu5Ceie"
      }
    },
    {
      "cell_type": "code",
      "source": [
        "def clean_str(text):\n",
        "  pattern = '([ㄱ-ㅎㅏ-ㅣ]+)'  # 한글 자음, 모음 제거\n",
        "  text = re.sub(pattern=pattern, repl='', string=text)\n",
        "  pattern = '<[^>]*>'         # HTML 태그 제거\n",
        "  text = re.sub(pattern=pattern, repl='', string=text)\n",
        "  pattern = '[^\\w\\s]'         # 특수기호제거\n",
        "  text = re.sub(pattern=pattern, repl='', string=text)\n",
        "  return text\n",
        "\n",
        "  def extract_word(text):\n",
        "    hangul = re.compile('[^가-힣]') \n",
        "    result = hangul.sub(' ', text) \n",
        "    return result"
      ],
      "metadata": {
        "id": "ZclJZw8FFJoJ"
      },
      "execution_count": 28,
      "outputs": []
    },
    {
      "cell_type": "code",
      "source": [
        "def extract_word(text):\n",
        "    hangul = re.compile('[^가-힣]') \n",
        "    result = hangul.sub(' ', text) \n",
        "    return result"
      ],
      "metadata": {
        "id": "7AzIBfpQFWnZ"
      },
      "execution_count": 29,
      "outputs": []
    },
    {
      "cell_type": "code",
      "source": [
        "print(\"Before Extraction : \",df['content'][135])\n",
        "print(\"After Extraction : \", extract_word(df['content'][135]))\n",
        "print(\"Before Extraction : \",df['content'][206])\n",
        "print(\"After Extraction : \", extract_word(df['content'][206]))"
      ],
      "metadata": {
        "colab": {
          "base_uri": "https://localhost:8080/"
        },
        "id": "MSQAYsq6Fjpg",
        "outputId": "87199aa6-fbfe-4118-dbe7-82e4199c4255"
      },
      "execution_count": 30,
      "outputs": [
        {
          "output_type": "stream",
          "name": "stdout",
          "text": [
            "Before Extraction :  알림시 진동안울림 !!!, 실행시 파란배경로고 나오기전 자주색+보라색 같은 배경이 먼저나옴 엄청 거슬림, 앱 전체가 너무 무거움 (기기 최신기종임)\n",
            "After Extraction :  알림시 진동안울림      실행시 파란배경로고 나오기전 자주색 보라색 같은 배경이 먼저나옴 엄청 거슬림  앱 전체가 너무 무거움  기기 최신기종임 \n",
            "Before Extraction :  업데이트 하고 나니 귀신같이 푸쉬알림 잘울림 ㅋㅋㅋㅋㅋㅋ개뿔 ㅋㅋㅋ 다시 고요해짐 ㅋㅋㅋ\n",
            "After Extraction :  업데이트 하고 나니 귀신같이 푸쉬알림 잘울림       개뿔     다시 고요해짐    \n"
          ]
        }
      ]
    },
    {
      "cell_type": "markdown",
      "source": [
        "## **띄어쓰기 고치기**"
      ],
      "metadata": {
        "id": "nQaCUqunF3Sq"
      }
    },
    {
      "cell_type": "code",
      "source": [
        "def no_space(text):\n",
        "  text1 = re.sub('&nbsp;|&nbsp;|\\n|\\t|\\r', '', text)\n",
        "  text2 = re.sub('\\n\\n','', text1)\n",
        "  return text2"
      ],
      "metadata": {
        "id": "RRhO8k99F5N5"
      },
      "execution_count": 31,
      "outputs": []
    },
    {
      "cell_type": "code",
      "source": [
        "spacing = Spacing()\n",
        "\n",
        "print(\"Before Fixing : \",df['content'][123])\n",
        "print(\"After Fixing : \", spacing(df['content'][123]))\n",
        "print(\"Before Fixing : \",df['content'][258])\n",
        "print(\"After Fixing : \", spacing(df['content'][258]))"
      ],
      "metadata": {
        "colab": {
          "base_uri": "https://localhost:8080/"
        },
        "id": "_4aWotkxF7yJ",
        "outputId": "8cb565c5-1d23-442a-caa7-c8b2a7a41c87"
      },
      "execution_count": 32,
      "outputs": [
        {
          "output_type": "stream",
          "name": "stdout",
          "text": [
            "Before Fixing :  앱딱열면첫페이지가갑자기보이지않아요 괜찮았는데어느순간안되서삭제후다시깔았는데도 첫페이지는하얗게나와요. ㅠ계좌내역등을조회하려면마이페이지쪽으로가야만보여요ㅠㅠ\n",
            "After Fixing :  앱 딱 열면 첫 페이지가 갑자기 보이지 않아 요 괜찮았는데 어느 순간 안 되서 삭제 후 다시 깔았는데도 첫 페이지는 하얗게 나와요. ㅠ 계좌 내역 등을 조회하려면 마이페이지 쪽으로 가야만 보여 요ㅠㅠ\n",
            "Before Fixing :  케이뱅크켜면 얼마전부터 네트워크상태가 안좋다면서 다시깔아야해요 그리고는 초기로그인 딱한번만 제대로되요 데이터로도 와이파이로도 장소도바꿔봤지만 계속그러네요 업데이트때문인지 불편해요\n",
            "After Fixing :  케이뱅크 켜면 얼마 전부터 네트워크 상태가 안 좋다면서 다시 깔아야 해요 그리고는 초기로그인 딱 한 번만 제대로 되요 데이터로도 와이파이로도 장소도 바꿔봤지만 계속 그러네요 업데이트 때문인지 불편해요\n"
          ]
        }
      ]
    },
    {
      "cell_type": "code",
      "source": [
        "# 전체 데이터에 적용\n",
        "df['content'] = df['content'].apply(lambda x:clean_str(x))\n",
        "df['content'] = df['content'].apply(lambda x:extract_word(x))\n",
        "df['content'] = df['content'].apply(lambda x:no_space(x))"
      ],
      "metadata": {
        "id": "bq-SUz3oFtwh"
      },
      "execution_count": 33,
      "outputs": []
    },
    {
      "cell_type": "markdown",
      "source": [
        "## **학습 데이터 구분**"
      ],
      "metadata": {
        "id": "_Mkhb2gLHyWM"
      }
    },
    {
      "cell_type": "code",
      "source": [
        "train_data,test_data = train_test_split(df,test_size=.25,random_state=42)"
      ],
      "metadata": {
        "id": "oyK0ArMzJxzV"
      },
      "execution_count": 34,
      "outputs": []
    },
    {
      "cell_type": "code",
      "source": [
        "# train용 리뷰 처리\n",
        "train_number_list=[]\n",
        "for num in range(len(train_data)):\n",
        "    train_number_list.append(num)\n",
        "    \n",
        "\n",
        "train_data['index']=train_number_list\n",
        "train_data=train_data.set_index(['index'])\n",
        "\n",
        "train_data['content'].nunique(),\n",
        "train_data['rating'].nunique(),\n",
        "train_data['label'].nunique()\n",
        "\n",
        "train_data.drop_duplicates(subset=['content'],inplace=True)"
      ],
      "metadata": {
        "id": "EARO5V5FHC2E"
      },
      "execution_count": 35,
      "outputs": []
    },
    {
      "cell_type": "code",
      "source": [
        "print(\"총 샘플의 개수: \",len(train_data))"
      ],
      "metadata": {
        "colab": {
          "base_uri": "https://localhost:8080/"
        },
        "id": "Yof8OOB3HV-9",
        "outputId": "ee564af0-74b8-4f77-c06c-93e856790930"
      },
      "execution_count": 36,
      "outputs": [
        {
          "output_type": "stream",
          "name": "stdout",
          "text": [
            "총 샘플의 개수:  1530\n"
          ]
        }
      ]
    },
    {
      "cell_type": "code",
      "source": [
        "# test용 리뷰 처리\n",
        "test_number_list = []\n",
        "\n",
        "for num in range(len(test_data)):\n",
        "  test_number_list.append(num)\n",
        "\n",
        "test_data['index']=test_number_list\n",
        "test_data=test_data.set_index(['index'])\n",
        "\n",
        "test_data['content'].nunique(),\n",
        "test_data['rating'].nunique()\n",
        "test_data['label'].nunique()\n",
        "\n",
        "test_data.drop_duplicates(subset=['content'],inplace=True)"
      ],
      "metadata": {
        "id": "Jk92kzdkGb2T"
      },
      "execution_count": 37,
      "outputs": []
    },
    {
      "cell_type": "code",
      "source": [
        "print(\"총 샘플의 개수: \",len(test_data))"
      ],
      "metadata": {
        "colab": {
          "base_uri": "https://localhost:8080/"
        },
        "id": "HpC1HrChHCMC",
        "outputId": "b35a8f28-1d64-42e2-e520-8e5993c5386b"
      },
      "execution_count": 38,
      "outputs": [
        {
          "output_type": "stream",
          "name": "stdout",
          "text": [
            "총 샘플의 개수:  510\n"
          ]
        }
      ]
    },
    {
      "cell_type": "code",
      "source": [
        "# 전처리 내용 저장\n",
        "test_data.to_pickle(\"/content/drive/My Drive/Colab Notebooks/test_data.pkl\")\n",
        "train_data.to_pickle(\"/content/drive/My Drive/Colab Notebooks/train_data.pkl\")"
      ],
      "metadata": {
        "id": "TUjw8jelgU6T"
      },
      "execution_count": 39,
      "outputs": []
    },
    {
      "cell_type": "code",
      "source": [
        "# 파일 다시 불러오기\n",
        "test_data = pd.read_pickle(\"/content/drive/My Drive/Colab Notebooks/test_data.pkl\")\n",
        "train_data = pd.read_pickle(\"/content/drive/My Drive/Colab Notebooks/train_data.pkl\")"
      ],
      "metadata": {
        "id": "krmz5FpigJ9K"
      },
      "execution_count": 40,
      "outputs": []
    },
    {
      "cell_type": "code",
      "source": [
        "train_data.info()"
      ],
      "metadata": {
        "colab": {
          "base_uri": "https://localhost:8080/"
        },
        "id": "Xqqn5t2EgOT-",
        "outputId": "a7b838bb-75eb-4d1b-ff8b-e54c68661965"
      },
      "execution_count": 41,
      "outputs": [
        {
          "output_type": "stream",
          "name": "stdout",
          "text": [
            "<class 'pandas.core.frame.DataFrame'>\n",
            "Int64Index: 1530 entries, 0 to 1529\n",
            "Data columns (total 3 columns):\n",
            " #   Column   Non-Null Count  Dtype \n",
            "---  ------   --------------  ----- \n",
            " 0   rating   1530 non-null   int64 \n",
            " 1   content  1530 non-null   object\n",
            " 2   label    1530 non-null   int64 \n",
            "dtypes: int64(2), object(1)\n",
            "memory usage: 47.8+ KB\n"
          ]
        }
      ]
    },
    {
      "cell_type": "markdown",
      "source": [
        "## **Feature Selection**"
      ],
      "metadata": {
        "id": "iMweGbtdghF6"
      }
    },
    {
      "cell_type": "code",
      "source": [
        "X = train_data.content # training 데이터에서 피쳐 추출\n",
        "y = train_data.rating # training 데이터에서 타겟 추출"
      ],
      "metadata": {
        "id": "JuYu30mbggH6"
      },
      "execution_count": 42,
      "outputs": []
    },
    {
      "cell_type": "code",
      "source": [
        "X.head()"
      ],
      "metadata": {
        "colab": {
          "base_uri": "https://localhost:8080/"
        },
        "id": "SAH1IHgvglvL",
        "outputId": "f7318e68-d99d-4db3-d62f-7709ad229451"
      },
      "execution_count": 43,
      "outputs": [
        {
          "output_type": "execute_result",
          "data": {
            "text/plain": [
              "index\n",
              "0    아으   업데이트 했더니 바이오인증 바뀌었다며 본인 인증 다시해야함 내 명의 폰도 ...\n",
              "1      이거 서버문제지 아이폰인데 그냥튕기는데 어디서 설정어쩌구저쩌구야 개소리말고 복구하세요\n",
              "2    원래 페이지 이동시나 로딩시 케이뱅크의  로고가 화면 중앙에서 로딩중이라는걸 알려줬...\n",
              "3    아니 잘쓰다가 앱이 실행 화면에서 멈춰서 넘어갈 생각을 안합니다 여러번 삭제하고 다...\n",
              "4    업비트 이벤트 때문에 가입하려고 보니   일부터 된다고 해서   일에 가입하니 다 ...\n",
              "Name: content, dtype: object"
            ]
          },
          "metadata": {},
          "execution_count": 43
        }
      ]
    },
    {
      "cell_type": "code",
      "source": [
        "y.head()"
      ],
      "metadata": {
        "colab": {
          "base_uri": "https://localhost:8080/"
        },
        "id": "8lyOL7yIgmFv",
        "outputId": "19f4c313-a833-4c82-f7ed-bb52d1d63a21"
      },
      "execution_count": 44,
      "outputs": [
        {
          "output_type": "execute_result",
          "data": {
            "text/plain": [
              "index\n",
              "0    1\n",
              "1    1\n",
              "2    2\n",
              "3    1\n",
              "4    1\n",
              "Name: rating, dtype: int64"
            ]
          },
          "metadata": {},
          "execution_count": 44
        }
      ]
    },
    {
      "cell_type": "markdown",
      "source": [
        "## **토큰화**"
      ],
      "metadata": {
        "id": "A_KA1ahxgoSU"
      }
    },
    {
      "cell_type": "code",
      "source": [
        "tokenized = [] # 데이터프레임의 한 컬럼으로 추가할 리스트\n",
        "def token(dataframe):\n",
        "    for sentence in dataframe['content']: # 전처리된 리뷰들을 하나씩 꺼내옵니다\n",
        "        tokens = t.morphs(sentence)\n",
        "        tokenize = \" \".join(tokens) # tokens라는 리스트 안의 형태소들을 띄어쓰기로 분리된 하나의 문자열로 join시켜줍니다.\n",
        "        tokenized.append(tokenize) # 형태소 단위로 띄어쓰기된 문자열을 최종 리스트에 추가해줍니다\n",
        "        dataframe[\"tokenized_stem\"] = pd.DataFrame(tokenized) # 리스트를 데이터프레임으로 변환해 tokenized_stem라는 컬럼명으로 추가해줍니다.\n",
        "    \n",
        "token(train_data)\n",
        "token(test_data)"
      ],
      "metadata": {
        "id": "7RzMGidHgnPV"
      },
      "execution_count": 45,
      "outputs": []
    },
    {
      "cell_type": "code",
      "source": [
        "train_data.head()"
      ],
      "metadata": {
        "colab": {
          "base_uri": "https://localhost:8080/",
          "height": 238
        },
        "id": "k4eM8FGWgrAw",
        "outputId": "3bea8979-ecde-4e44-efaa-234669de1ae1"
      },
      "execution_count": 46,
      "outputs": [
        {
          "output_type": "execute_result",
          "data": {
            "text/plain": [
              "       rating                                            content  label  \\\n",
              "index                                                                     \n",
              "0           1  아으   업데이트 했더니 바이오인증 바뀌었다며 본인 인증 다시해야함 내 명의 폰도 ...      0   \n",
              "1           1    이거 서버문제지 아이폰인데 그냥튕기는데 어디서 설정어쩌구저쩌구야 개소리말고 복구하세요      0   \n",
              "2           2  원래 페이지 이동시나 로딩시 케이뱅크의  로고가 화면 중앙에서 로딩중이라는걸 알려줬...      0   \n",
              "3           1  아니 잘쓰다가 앱이 실행 화면에서 멈춰서 넘어갈 생각을 안합니다 여러번 삭제하고 다...      0   \n",
              "4           1  업비트 이벤트 때문에 가입하려고 보니   일부터 된다고 해서   일에 가입하니 다 ...      0   \n",
              "\n",
              "                                          tokenized_stem  \n",
              "index                                                     \n",
              "0      아으 업데이트 했더니 바이오인증 바뀌었다며 본인 인증 다시 해야 함 내 명의 폰 도...  \n",
              "1      이 거 서버 문제 지 아이폰 인데 그냥 튕 기는데 어디서 설정 어 쩌구저쩌 구야 개...  \n",
              "2      원래 페이지 이 동시 나 로딩 시 케이 뱅크 의 로고 가 화면 중앙 에서 로딩 중 ...  \n",
              "3      아니 잘쓰다가 앱 이 실행 화면 에서 멈춰서 넘어갈 생각 을 안 합니다 여러 번 삭...  \n",
              "4      업 비트 이벤트 때문 에 가입 하려고 보니 일 부터 된다고 해서 일 에 가입 하니 ...  "
            ],
            "text/html": [
              "\n",
              "  <div id=\"df-e957e476-3fe3-4d59-b580-8a863ecb2265\">\n",
              "    <div class=\"colab-df-container\">\n",
              "      <div>\n",
              "<style scoped>\n",
              "    .dataframe tbody tr th:only-of-type {\n",
              "        vertical-align: middle;\n",
              "    }\n",
              "\n",
              "    .dataframe tbody tr th {\n",
              "        vertical-align: top;\n",
              "    }\n",
              "\n",
              "    .dataframe thead th {\n",
              "        text-align: right;\n",
              "    }\n",
              "</style>\n",
              "<table border=\"1\" class=\"dataframe\">\n",
              "  <thead>\n",
              "    <tr style=\"text-align: right;\">\n",
              "      <th></th>\n",
              "      <th>rating</th>\n",
              "      <th>content</th>\n",
              "      <th>label</th>\n",
              "      <th>tokenized_stem</th>\n",
              "    </tr>\n",
              "    <tr>\n",
              "      <th>index</th>\n",
              "      <th></th>\n",
              "      <th></th>\n",
              "      <th></th>\n",
              "      <th></th>\n",
              "    </tr>\n",
              "  </thead>\n",
              "  <tbody>\n",
              "    <tr>\n",
              "      <th>0</th>\n",
              "      <td>1</td>\n",
              "      <td>아으   업데이트 했더니 바이오인증 바뀌었다며 본인 인증 다시해야함 내 명의 폰도 ...</td>\n",
              "      <td>0</td>\n",
              "      <td>아으 업데이트 했더니 바이오인증 바뀌었다며 본인 인증 다시 해야 함 내 명의 폰 도...</td>\n",
              "    </tr>\n",
              "    <tr>\n",
              "      <th>1</th>\n",
              "      <td>1</td>\n",
              "      <td>이거 서버문제지 아이폰인데 그냥튕기는데 어디서 설정어쩌구저쩌구야 개소리말고 복구하세요</td>\n",
              "      <td>0</td>\n",
              "      <td>이 거 서버 문제 지 아이폰 인데 그냥 튕 기는데 어디서 설정 어 쩌구저쩌 구야 개...</td>\n",
              "    </tr>\n",
              "    <tr>\n",
              "      <th>2</th>\n",
              "      <td>2</td>\n",
              "      <td>원래 페이지 이동시나 로딩시 케이뱅크의  로고가 화면 중앙에서 로딩중이라는걸 알려줬...</td>\n",
              "      <td>0</td>\n",
              "      <td>원래 페이지 이 동시 나 로딩 시 케이 뱅크 의 로고 가 화면 중앙 에서 로딩 중 ...</td>\n",
              "    </tr>\n",
              "    <tr>\n",
              "      <th>3</th>\n",
              "      <td>1</td>\n",
              "      <td>아니 잘쓰다가 앱이 실행 화면에서 멈춰서 넘어갈 생각을 안합니다 여러번 삭제하고 다...</td>\n",
              "      <td>0</td>\n",
              "      <td>아니 잘쓰다가 앱 이 실행 화면 에서 멈춰서 넘어갈 생각 을 안 합니다 여러 번 삭...</td>\n",
              "    </tr>\n",
              "    <tr>\n",
              "      <th>4</th>\n",
              "      <td>1</td>\n",
              "      <td>업비트 이벤트 때문에 가입하려고 보니   일부터 된다고 해서   일에 가입하니 다 ...</td>\n",
              "      <td>0</td>\n",
              "      <td>업 비트 이벤트 때문 에 가입 하려고 보니 일 부터 된다고 해서 일 에 가입 하니 ...</td>\n",
              "    </tr>\n",
              "  </tbody>\n",
              "</table>\n",
              "</div>\n",
              "      <button class=\"colab-df-convert\" onclick=\"convertToInteractive('df-e957e476-3fe3-4d59-b580-8a863ecb2265')\"\n",
              "              title=\"Convert this dataframe to an interactive table.\"\n",
              "              style=\"display:none;\">\n",
              "        \n",
              "  <svg xmlns=\"http://www.w3.org/2000/svg\" height=\"24px\"viewBox=\"0 0 24 24\"\n",
              "       width=\"24px\">\n",
              "    <path d=\"M0 0h24v24H0V0z\" fill=\"none\"/>\n",
              "    <path d=\"M18.56 5.44l.94 2.06.94-2.06 2.06-.94-2.06-.94-.94-2.06-.94 2.06-2.06.94zm-11 1L8.5 8.5l.94-2.06 2.06-.94-2.06-.94L8.5 2.5l-.94 2.06-2.06.94zm10 10l.94 2.06.94-2.06 2.06-.94-2.06-.94-.94-2.06-.94 2.06-2.06.94z\"/><path d=\"M17.41 7.96l-1.37-1.37c-.4-.4-.92-.59-1.43-.59-.52 0-1.04.2-1.43.59L10.3 9.45l-7.72 7.72c-.78.78-.78 2.05 0 2.83L4 21.41c.39.39.9.59 1.41.59.51 0 1.02-.2 1.41-.59l7.78-7.78 2.81-2.81c.8-.78.8-2.07 0-2.86zM5.41 20L4 18.59l7.72-7.72 1.47 1.35L5.41 20z\"/>\n",
              "  </svg>\n",
              "      </button>\n",
              "      \n",
              "  <style>\n",
              "    .colab-df-container {\n",
              "      display:flex;\n",
              "      flex-wrap:wrap;\n",
              "      gap: 12px;\n",
              "    }\n",
              "\n",
              "    .colab-df-convert {\n",
              "      background-color: #E8F0FE;\n",
              "      border: none;\n",
              "      border-radius: 50%;\n",
              "      cursor: pointer;\n",
              "      display: none;\n",
              "      fill: #1967D2;\n",
              "      height: 32px;\n",
              "      padding: 0 0 0 0;\n",
              "      width: 32px;\n",
              "    }\n",
              "\n",
              "    .colab-df-convert:hover {\n",
              "      background-color: #E2EBFA;\n",
              "      box-shadow: 0px 1px 2px rgba(60, 64, 67, 0.3), 0px 1px 3px 1px rgba(60, 64, 67, 0.15);\n",
              "      fill: #174EA6;\n",
              "    }\n",
              "\n",
              "    [theme=dark] .colab-df-convert {\n",
              "      background-color: #3B4455;\n",
              "      fill: #D2E3FC;\n",
              "    }\n",
              "\n",
              "    [theme=dark] .colab-df-convert:hover {\n",
              "      background-color: #434B5C;\n",
              "      box-shadow: 0px 1px 3px 1px rgba(0, 0, 0, 0.15);\n",
              "      filter: drop-shadow(0px 1px 2px rgba(0, 0, 0, 0.3));\n",
              "      fill: #FFFFFF;\n",
              "    }\n",
              "  </style>\n",
              "\n",
              "      <script>\n",
              "        const buttonEl =\n",
              "          document.querySelector('#df-e957e476-3fe3-4d59-b580-8a863ecb2265 button.colab-df-convert');\n",
              "        buttonEl.style.display =\n",
              "          google.colab.kernel.accessAllowed ? 'block' : 'none';\n",
              "\n",
              "        async function convertToInteractive(key) {\n",
              "          const element = document.querySelector('#df-e957e476-3fe3-4d59-b580-8a863ecb2265');\n",
              "          const dataTable =\n",
              "            await google.colab.kernel.invokeFunction('convertToInteractive',\n",
              "                                                     [key], {});\n",
              "          if (!dataTable) return;\n",
              "\n",
              "          const docLinkHtml = 'Like what you see? Visit the ' +\n",
              "            '<a target=\"_blank\" href=https://colab.research.google.com/notebooks/data_table.ipynb>data table notebook</a>'\n",
              "            + ' to learn more about interactive tables.';\n",
              "          element.innerHTML = '';\n",
              "          dataTable['output_type'] = 'display_data';\n",
              "          await google.colab.output.renderOutput(dataTable, element);\n",
              "          const docLink = document.createElement('div');\n",
              "          docLink.innerHTML = docLinkHtml;\n",
              "          element.appendChild(docLink);\n",
              "        }\n",
              "      </script>\n",
              "    </div>\n",
              "  </div>\n",
              "  "
            ]
          },
          "metadata": {},
          "execution_count": 46
        }
      ]
    },
    {
      "cell_type": "markdown",
      "source": [
        "## **품사 태깅 (POS Tagging)**"
      ],
      "metadata": {
        "id": "TkzxGp2oij52"
      }
    },
    {
      "cell_type": "code",
      "source": [
        "def postagging(dataframe):\n",
        "    main_pos = [] # 데이터프레임의 새 컬럼이 될 리스트\n",
        "    for sentence in dataframe['tokenized_stem']: # 리뷰들을 하나씩 가져옵니다\n",
        "        pos = t.pos(sentence) # 형태소 분석을 진행하고 해당 리스트를 pos라는 변수로 받습니다\n",
        "        main_words = [word_pos[0] for word_pos in pos if word_pos[1] in ('Adjective', #형용사\n",
        "                                                                         'Noun', #명사\n",
        "                                                                         'Adjective', #부사\n",
        "                                                                         'Verb', #동사\n",
        "                                                                         'Number',\n",
        "                                                                         'KoreanParticle'\n",
        "                                                                         )] # 가져오고자 하는 품사에 해당하면 해당 형태소를 main_words 리스트에 추가합니다.\n",
        "        main_words_str = \" \".join(main_words) # main_words 리스트 안의 형태소들을 띄어쓰기로 분리된 하나의 문자열로 join시켜줍니다.\n",
        "        main_pos.append(main_words_str) # 선택한 형태소들로 이루어진 문자열을 최종 리스트에 추가해줍니다\n",
        "        dataframe[\"main_pos\"] = pd.DataFrame(main_pos) # 리스트를 데이터프레임으로 변환해 main_pos라는 컬럼명으로 추가해줍니다.\n",
        "\n",
        "postagging(train_data)\n",
        "postagging(test_data)"
      ],
      "metadata": {
        "id": "NXtj5gI2gsUq"
      },
      "execution_count": 47,
      "outputs": []
    },
    {
      "cell_type": "code",
      "source": [
        "# 케이, 뱅크, 앱, 어플 외 의미 없다고 판단되는 부사 및 조사 제거\n",
        "stopwords = ['도', '는', '다', '의', '가', '이', '은', '한', '에', '하', '고', '을', '를', '인', '듯', '과', '와', '네', '들', '듯', '지', '임', '게','요','거','로','으로',\n",
        "            '것','수','할','하는','제','에서','그','데','번','해도','죠','된','건','바','구','세','안','하고','만','못','재','잘','하고','더','안','때','앱','어플','다른',\n",
        "             '왜','좀','안되고','뱅크','케이','은행','있습니다','적','하기','입니다','중','했는데','합니다','같아요','인데','저','면','주','해서','부터','뭐','후','하는데',\n",
        "             '같습니다','그리고']\n",
        "test_data['tokenized']=test_data['content'].apply(t.morphs)\n",
        "test_data['tokenized']=test_data['tokenized'].apply(lambda x: [item for item in x if item not in stopwords])\n",
        "train_data['tokenized']=train_data['content'].apply(t.morphs)\n",
        "train_data['tokenized']=train_data['tokenized'].apply(lambda x: [item for item in x if item not in stopwords])"
      ],
      "metadata": {
        "id": "cyHjhy50jhPt"
      },
      "execution_count": 48,
      "outputs": []
    },
    {
      "cell_type": "code",
      "source": [
        "train_data.head()"
      ],
      "metadata": {
        "colab": {
          "base_uri": "https://localhost:8080/",
          "height": 368
        },
        "id": "j8giW9cgj1bx",
        "outputId": "e00cbb3b-0187-4026-d412-fbd8a6a60ef1"
      },
      "execution_count": 49,
      "outputs": [
        {
          "output_type": "execute_result",
          "data": {
            "text/plain": [
              "       rating                                            content  label  \\\n",
              "index                                                                     \n",
              "0           1  아으   업데이트 했더니 바이오인증 바뀌었다며 본인 인증 다시해야함 내 명의 폰도 ...      0   \n",
              "1           1    이거 서버문제지 아이폰인데 그냥튕기는데 어디서 설정어쩌구저쩌구야 개소리말고 복구하세요      0   \n",
              "2           2  원래 페이지 이동시나 로딩시 케이뱅크의  로고가 화면 중앙에서 로딩중이라는걸 알려줬...      0   \n",
              "3           1  아니 잘쓰다가 앱이 실행 화면에서 멈춰서 넘어갈 생각을 안합니다 여러번 삭제하고 다...      0   \n",
              "4           1  업비트 이벤트 때문에 가입하려고 보니   일부터 된다고 해서   일에 가입하니 다 ...      0   \n",
              "\n",
              "                                          tokenized_stem  \\\n",
              "index                                                      \n",
              "0      아으 업데이트 했더니 바이오인증 바뀌었다며 본인 인증 다시 해야 함 내 명의 폰 도...   \n",
              "1      이 거 서버 문제 지 아이폰 인데 그냥 튕 기는데 어디서 설정 어 쩌구저쩌 구야 개...   \n",
              "2      원래 페이지 이 동시 나 로딩 시 케이 뱅크 의 로고 가 화면 중앙 에서 로딩 중 ...   \n",
              "3      아니 잘쓰다가 앱 이 실행 화면 에서 멈춰서 넘어갈 생각 을 안 합니다 여러 번 삭...   \n",
              "4      업 비트 이벤트 때문 에 가입 하려고 보니 일 부터 된다고 해서 일 에 가입 하니 ...   \n",
              "\n",
              "                                                main_pos  \\\n",
              "index                                                      \n",
              "0      아으 업데이트 했더니 바이오인증 바뀌었다며 본인 인증 다시 해야 함 내 명의 폰 도...   \n",
              "1        이 거 서버 문제 지 아이폰 그냥 튕 기는데 설정 쩌구저쩌 구야 개 소리 복구 하세요   \n",
              "2      원래 페이지 이 동시 나 로딩 시 케이 뱅크 의 로고 가 화면 중앙 로딩 중 이라 ...   \n",
              "3      아니 잘쓰다가 앱 이 실행 화면 멈춰서 넘어갈 생각 안 합니다 여러 번 삭제 하고 ...   \n",
              "4      업 비트 이벤트 때문 가입 하려고 보니 일 부터 된다고 해서 일 가입 하니 끝나있고...   \n",
              "\n",
              "                                               tokenized  \n",
              "index                                                     \n",
              "0      [아으, 업데이트, 했더니, 바이오인증, 바뀌었다며, 본인, 인증, 다시, 해야, ...  \n",
              "1      [서버, 문제, 아이폰, 그냥, 튕, 기는데, 어디서, 설정, 어, 쩌구저쩌, 구야...  \n",
              "2      [원래, 페이지, 동시, 나, 로딩, 시, 로고, 화면, 중앙, 로딩, 이라, 는걸...  \n",
              "3      [아니, 잘쓰다가, 실행, 화면, 멈춰서, 넘어갈, 생각, 여러, 삭제, 다시, 깔...  \n",
              "4      [업, 비트, 이벤트, 때문, 가입, 하려고, 보니, 일, 된다고, 일, 가입, 하...  "
            ],
            "text/html": [
              "\n",
              "  <div id=\"df-d35d3897-bf30-416d-9929-c4ff8911b24c\">\n",
              "    <div class=\"colab-df-container\">\n",
              "      <div>\n",
              "<style scoped>\n",
              "    .dataframe tbody tr th:only-of-type {\n",
              "        vertical-align: middle;\n",
              "    }\n",
              "\n",
              "    .dataframe tbody tr th {\n",
              "        vertical-align: top;\n",
              "    }\n",
              "\n",
              "    .dataframe thead th {\n",
              "        text-align: right;\n",
              "    }\n",
              "</style>\n",
              "<table border=\"1\" class=\"dataframe\">\n",
              "  <thead>\n",
              "    <tr style=\"text-align: right;\">\n",
              "      <th></th>\n",
              "      <th>rating</th>\n",
              "      <th>content</th>\n",
              "      <th>label</th>\n",
              "      <th>tokenized_stem</th>\n",
              "      <th>main_pos</th>\n",
              "      <th>tokenized</th>\n",
              "    </tr>\n",
              "    <tr>\n",
              "      <th>index</th>\n",
              "      <th></th>\n",
              "      <th></th>\n",
              "      <th></th>\n",
              "      <th></th>\n",
              "      <th></th>\n",
              "      <th></th>\n",
              "    </tr>\n",
              "  </thead>\n",
              "  <tbody>\n",
              "    <tr>\n",
              "      <th>0</th>\n",
              "      <td>1</td>\n",
              "      <td>아으   업데이트 했더니 바이오인증 바뀌었다며 본인 인증 다시해야함 내 명의 폰도 ...</td>\n",
              "      <td>0</td>\n",
              "      <td>아으 업데이트 했더니 바이오인증 바뀌었다며 본인 인증 다시 해야 함 내 명의 폰 도...</td>\n",
              "      <td>아으 업데이트 했더니 바이오인증 바뀌었다며 본인 인증 다시 해야 함 내 명의 폰 도...</td>\n",
              "      <td>[아으, 업데이트, 했더니, 바이오인증, 바뀌었다며, 본인, 인증, 다시, 해야, ...</td>\n",
              "    </tr>\n",
              "    <tr>\n",
              "      <th>1</th>\n",
              "      <td>1</td>\n",
              "      <td>이거 서버문제지 아이폰인데 그냥튕기는데 어디서 설정어쩌구저쩌구야 개소리말고 복구하세요</td>\n",
              "      <td>0</td>\n",
              "      <td>이 거 서버 문제 지 아이폰 인데 그냥 튕 기는데 어디서 설정 어 쩌구저쩌 구야 개...</td>\n",
              "      <td>이 거 서버 문제 지 아이폰 그냥 튕 기는데 설정 쩌구저쩌 구야 개 소리 복구 하세요</td>\n",
              "      <td>[서버, 문제, 아이폰, 그냥, 튕, 기는데, 어디서, 설정, 어, 쩌구저쩌, 구야...</td>\n",
              "    </tr>\n",
              "    <tr>\n",
              "      <th>2</th>\n",
              "      <td>2</td>\n",
              "      <td>원래 페이지 이동시나 로딩시 케이뱅크의  로고가 화면 중앙에서 로딩중이라는걸 알려줬...</td>\n",
              "      <td>0</td>\n",
              "      <td>원래 페이지 이 동시 나 로딩 시 케이 뱅크 의 로고 가 화면 중앙 에서 로딩 중 ...</td>\n",
              "      <td>원래 페이지 이 동시 나 로딩 시 케이 뱅크 의 로고 가 화면 중앙 로딩 중 이라 ...</td>\n",
              "      <td>[원래, 페이지, 동시, 나, 로딩, 시, 로고, 화면, 중앙, 로딩, 이라, 는걸...</td>\n",
              "    </tr>\n",
              "    <tr>\n",
              "      <th>3</th>\n",
              "      <td>1</td>\n",
              "      <td>아니 잘쓰다가 앱이 실행 화면에서 멈춰서 넘어갈 생각을 안합니다 여러번 삭제하고 다...</td>\n",
              "      <td>0</td>\n",
              "      <td>아니 잘쓰다가 앱 이 실행 화면 에서 멈춰서 넘어갈 생각 을 안 합니다 여러 번 삭...</td>\n",
              "      <td>아니 잘쓰다가 앱 이 실행 화면 멈춰서 넘어갈 생각 안 합니다 여러 번 삭제 하고 ...</td>\n",
              "      <td>[아니, 잘쓰다가, 실행, 화면, 멈춰서, 넘어갈, 생각, 여러, 삭제, 다시, 깔...</td>\n",
              "    </tr>\n",
              "    <tr>\n",
              "      <th>4</th>\n",
              "      <td>1</td>\n",
              "      <td>업비트 이벤트 때문에 가입하려고 보니   일부터 된다고 해서   일에 가입하니 다 ...</td>\n",
              "      <td>0</td>\n",
              "      <td>업 비트 이벤트 때문 에 가입 하려고 보니 일 부터 된다고 해서 일 에 가입 하니 ...</td>\n",
              "      <td>업 비트 이벤트 때문 가입 하려고 보니 일 부터 된다고 해서 일 가입 하니 끝나있고...</td>\n",
              "      <td>[업, 비트, 이벤트, 때문, 가입, 하려고, 보니, 일, 된다고, 일, 가입, 하...</td>\n",
              "    </tr>\n",
              "  </tbody>\n",
              "</table>\n",
              "</div>\n",
              "      <button class=\"colab-df-convert\" onclick=\"convertToInteractive('df-d35d3897-bf30-416d-9929-c4ff8911b24c')\"\n",
              "              title=\"Convert this dataframe to an interactive table.\"\n",
              "              style=\"display:none;\">\n",
              "        \n",
              "  <svg xmlns=\"http://www.w3.org/2000/svg\" height=\"24px\"viewBox=\"0 0 24 24\"\n",
              "       width=\"24px\">\n",
              "    <path d=\"M0 0h24v24H0V0z\" fill=\"none\"/>\n",
              "    <path d=\"M18.56 5.44l.94 2.06.94-2.06 2.06-.94-2.06-.94-.94-2.06-.94 2.06-2.06.94zm-11 1L8.5 8.5l.94-2.06 2.06-.94-2.06-.94L8.5 2.5l-.94 2.06-2.06.94zm10 10l.94 2.06.94-2.06 2.06-.94-2.06-.94-.94-2.06-.94 2.06-2.06.94z\"/><path d=\"M17.41 7.96l-1.37-1.37c-.4-.4-.92-.59-1.43-.59-.52 0-1.04.2-1.43.59L10.3 9.45l-7.72 7.72c-.78.78-.78 2.05 0 2.83L4 21.41c.39.39.9.59 1.41.59.51 0 1.02-.2 1.41-.59l7.78-7.78 2.81-2.81c.8-.78.8-2.07 0-2.86zM5.41 20L4 18.59l7.72-7.72 1.47 1.35L5.41 20z\"/>\n",
              "  </svg>\n",
              "      </button>\n",
              "      \n",
              "  <style>\n",
              "    .colab-df-container {\n",
              "      display:flex;\n",
              "      flex-wrap:wrap;\n",
              "      gap: 12px;\n",
              "    }\n",
              "\n",
              "    .colab-df-convert {\n",
              "      background-color: #E8F0FE;\n",
              "      border: none;\n",
              "      border-radius: 50%;\n",
              "      cursor: pointer;\n",
              "      display: none;\n",
              "      fill: #1967D2;\n",
              "      height: 32px;\n",
              "      padding: 0 0 0 0;\n",
              "      width: 32px;\n",
              "    }\n",
              "\n",
              "    .colab-df-convert:hover {\n",
              "      background-color: #E2EBFA;\n",
              "      box-shadow: 0px 1px 2px rgba(60, 64, 67, 0.3), 0px 1px 3px 1px rgba(60, 64, 67, 0.15);\n",
              "      fill: #174EA6;\n",
              "    }\n",
              "\n",
              "    [theme=dark] .colab-df-convert {\n",
              "      background-color: #3B4455;\n",
              "      fill: #D2E3FC;\n",
              "    }\n",
              "\n",
              "    [theme=dark] .colab-df-convert:hover {\n",
              "      background-color: #434B5C;\n",
              "      box-shadow: 0px 1px 3px 1px rgba(0, 0, 0, 0.15);\n",
              "      filter: drop-shadow(0px 1px 2px rgba(0, 0, 0, 0.3));\n",
              "      fill: #FFFFFF;\n",
              "    }\n",
              "  </style>\n",
              "\n",
              "      <script>\n",
              "        const buttonEl =\n",
              "          document.querySelector('#df-d35d3897-bf30-416d-9929-c4ff8911b24c button.colab-df-convert');\n",
              "        buttonEl.style.display =\n",
              "          google.colab.kernel.accessAllowed ? 'block' : 'none';\n",
              "\n",
              "        async function convertToInteractive(key) {\n",
              "          const element = document.querySelector('#df-d35d3897-bf30-416d-9929-c4ff8911b24c');\n",
              "          const dataTable =\n",
              "            await google.colab.kernel.invokeFunction('convertToInteractive',\n",
              "                                                     [key], {});\n",
              "          if (!dataTable) return;\n",
              "\n",
              "          const docLinkHtml = 'Like what you see? Visit the ' +\n",
              "            '<a target=\"_blank\" href=https://colab.research.google.com/notebooks/data_table.ipynb>data table notebook</a>'\n",
              "            + ' to learn more about interactive tables.';\n",
              "          element.innerHTML = '';\n",
              "          dataTable['output_type'] = 'display_data';\n",
              "          await google.colab.output.renderOutput(dataTable, element);\n",
              "          const docLink = document.createElement('div');\n",
              "          docLink.innerHTML = docLinkHtml;\n",
              "          element.appendChild(docLink);\n",
              "        }\n",
              "      </script>\n",
              "    </div>\n",
              "  </div>\n",
              "  "
            ]
          },
          "metadata": {},
          "execution_count": 49
        }
      ]
    },
    {
      "cell_type": "markdown",
      "source": [
        "### 다양한 분석을 위해 총 3개의 전처리된 컬럼을 생성하였습니다."
      ],
      "metadata": {
        "id": "rf6f-yl4oSOW"
      }
    },
    {
      "cell_type": "code",
      "source": [
        "# 내용 저장\n",
        "test_data.to_pickle(\"/content/drive/My Drive/Colab Notebooks/test_data_for_modeling.pkl\")\n",
        "train_data.to_pickle(\"/content/drive/My Drive/Colab Notebooks/train_data_for_modeling.pkl\")"
      ],
      "metadata": {
        "id": "-mYny3OwoH-H"
      },
      "execution_count": 50,
      "outputs": []
    }
  ]
}
