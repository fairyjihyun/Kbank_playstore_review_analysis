{
  "nbformat": 4,
  "nbformat_minor": 0,
  "metadata": {
    "colab": {
      "name": "Sentiment_by_RNN.ipynb",
      "provenance": [],
      "collapsed_sections": [],
      "machine_shape": "hm",
      "authorship_tag": "ABX9TyPHwjGJ34JKkue3U3q+k8OQ",
      "include_colab_link": true
    },
    "kernelspec": {
      "name": "python3",
      "display_name": "Python 3"
    },
    "language_info": {
      "name": "python"
    },
    "accelerator": "GPU",
    "gpuClass": "standard"
  },
  "cells": [
    {
      "cell_type": "markdown",
      "metadata": {
        "id": "view-in-github",
        "colab_type": "text"
      },
      "source": [
        "<a href=\"https://colab.research.google.com/github/hamsterjoa/Kbank_playstore_review_analysis/blob/master/Sentiment_by_RNN.ipynb\" target=\"_parent\"><img src=\"https://colab.research.google.com/assets/colab-badge.svg\" alt=\"Open In Colab\"/></a>"
      ]
    },
    {
      "cell_type": "code",
      "execution_count": 1,
      "metadata": {
        "colab": {
          "base_uri": "https://localhost:8080/"
        },
        "id": "ugI0GqpxGnGN",
        "outputId": "ab48db52-9a34-473f-c0aa-26758c765539"
      },
      "outputs": [
        {
          "output_type": "stream",
          "name": "stdout",
          "text": [
            "Mounted at /content/drive\n"
          ]
        }
      ],
      "source": [
        "import os, sys  \n",
        "from google.colab import drive\n",
        "drive.mount('/content/drive')"
      ]
    },
    {
      "cell_type": "code",
      "source": [
        "!pip install customized_konlpy"
      ],
      "metadata": {
        "id": "hkYn4crkY8mC"
      },
      "execution_count": null,
      "outputs": []
    },
    {
      "cell_type": "code",
      "source": [
        "import re\n",
        "import pandas as pd\n",
        "import numpy as np\n",
        "import matplotlib.pyplot as plt\n",
        "import urllib.request\n",
        "from collections import Counter\n",
        "\n",
        "from konlpy.tag import Okt; t=Okt()\n",
        "from tensorflow.keras.preprocessing.text import Tokenizer\n",
        "from tensorflow.keras.preprocessing.sequence import pad_sequences\n",
        "\n",
        "from tensorflow.keras.layers import Embedding, Dense, LSTM, Bidirectional\n",
        "from tensorflow.keras.layers import Embedding, Dense, GRU\n",
        "from tensorflow.keras.models import Sequential\n",
        "from tensorflow.keras.models import load_model\n",
        "from tensorflow.keras.callbacks import EarlyStopping, ModelCheckpoint"
      ],
      "metadata": {
        "id": "_wqnNFlEHRHj"
      },
      "execution_count": 33,
      "outputs": []
    },
    {
      "cell_type": "markdown",
      "source": [
        "## 데이터 로드"
      ],
      "metadata": {
        "id": "SMmf2kX1a0Er"
      }
    },
    {
      "cell_type": "code",
      "source": [
        "# 파일 불러오기\n",
        "test_data = pd.read_pickle(\"/content/drive/My Drive/Colab Notebooks/test_data_for_modeling.pkl\")\n",
        "train_data = pd.read_pickle(\"/content/drive/My Drive/Colab Notebooks/train_data_for_modeling.pkl\")"
      ],
      "metadata": {
        "id": "2W2aPxJSG9H8"
      },
      "execution_count": 5,
      "outputs": []
    },
    {
      "cell_type": "code",
      "source": [
        "# 중복을 제외한 샘플의 수\n",
        "train_data['content'].nunique(), train_data['label'].nunique()"
      ],
      "metadata": {
        "colab": {
          "base_uri": "https://localhost:8080/"
        },
        "id": "c7ArOUJVbFav",
        "outputId": "38c49f97-0eb3-43d2-ea14-005b1ad09bee"
      },
      "execution_count": 28,
      "outputs": [
        {
          "output_type": "execute_result",
          "data": {
            "text/plain": [
              "(1530, 2)"
            ]
          },
          "metadata": {},
          "execution_count": 28
        }
      ]
    },
    {
      "cell_type": "code",
      "source": [
        "train_data.drop_duplicates(subset=['content'], inplace=True)\n",
        "print('총 샘플의 수 : ', len(train_data))"
      ],
      "metadata": {
        "colab": {
          "base_uri": "https://localhost:8080/"
        },
        "id": "iPuSJcjGa5qQ",
        "outputId": "b313cb78-0cf7-4c4b-99a8-1459feed9ce1"
      },
      "execution_count": 29,
      "outputs": [
        {
          "output_type": "stream",
          "name": "stdout",
          "text": [
            "총 샘플의 수 :  1530\n"
          ]
        }
      ]
    },
    {
      "cell_type": "code",
      "source": [
        "# 훈련 데이터의 레이블 분포\n",
        "train_data['label'].value_counts().plot(kind='bar')"
      ],
      "metadata": {
        "colab": {
          "base_uri": "https://localhost:8080/",
          "height": 280
        },
        "id": "rmI40U1cbm2e",
        "outputId": "6e5190d3-c476-4803-9366-926aedec2500"
      },
      "execution_count": 30,
      "outputs": [
        {
          "output_type": "execute_result",
          "data": {
            "text/plain": [
              "<matplotlib.axes._subplots.AxesSubplot at 0x7fb509f2a110>"
            ]
          },
          "metadata": {},
          "execution_count": 30
        },
        {
          "output_type": "display_data",
          "data": {
            "text/plain": [
              "<Figure size 432x288 with 1 Axes>"
            ],
            "image/png": "[encoded data removed]"
          },
          "metadata": {
            "needs_background": "light"
          }
        }
      ]
    },
    {
      "cell_type": "code",
      "source": [
        "print(train_data.groupby('label').size().reset_index(name='count'))"
      ],
      "metadata": {
        "colab": {
          "base_uri": "https://localhost:8080/"
        },
        "id": "GmZXpUXbbvx1",
        "outputId": "a06167a1-dd52-4a98-a93a-1543f1445517"
      },
      "execution_count": 31,
      "outputs": [
        {
          "output_type": "stream",
          "name": "stdout",
          "text": [
            "   label  count\n",
            "0      0   1326\n",
            "1      1    204\n"
          ]
        }
      ]
    },
    {
      "cell_type": "markdown",
      "source": [
        "전체 리뷰 중에 부정리뷰가 약 87%, 긍정리뷰가 약 13%를 차지하고 있습니다."
      ],
      "metadata": {
        "id": "6BF1HNSXcEgM"
      }
    },
    {
      "cell_type": "markdown",
      "source": [
        "## 단어와 길이 및 분포 확인"
      ],
      "metadata": {
        "id": "0UYFlqMU3Ao9"
      }
    },
    {
      "cell_type": "code",
      "source": [
        "negative_words = np.hstack(train_data[train_data.label == 0]['tokenized'].values)\n",
        "positive_words = np.hstack(train_data[train_data.label == 1]['tokenized'].values)"
      ],
      "metadata": {
        "id": "-RxQVRlW2fFM"
      },
      "execution_count": 6,
      "outputs": []
    },
    {
      "cell_type": "code",
      "source": [
        "# 부정 리뷰에 대해서 빈도수가 높은 상위 20개 단어 출력\n",
        "negative_word_count = Counter(negative_words)\n",
        "print(negative_word_count.most_common(20))"
      ],
      "metadata": {
        "colab": {
          "base_uri": "https://localhost:8080/"
        },
        "id": "xN6lA-m_2e99",
        "outputId": "9d5b2cbd-10b5-4403-f0e9-b4b889b77edd"
      },
      "execution_count": 7,
      "outputs": [
        {
          "output_type": "stream",
          "name": "stdout",
          "text": [
            "[('인증', 323), ('다시', 273), ('계좌', 272), ('계속', 227), ('사용', 220), ('화면', 217), ('신분증', 217), ('인식', 182), ('설치', 175), ('가입', 171), ('접속', 168), ('확인', 163), ('실행', 159), ('이체', 152), ('오류', 132), ('로그인', 127), ('너무', 127), ('삭제', 124), ('진짜', 122), ('등록', 121)]\n"
          ]
        }
      ]
    },
    {
      "cell_type": "code",
      "source": [
        "# 긍정 리뷰에 대해서 빈도수가 높은 상위 20개 단어 출력\n",
        "positive_word_count = Counter(positive_words)\n",
        "print(positive_word_count.most_common(20))"
      ],
      "metadata": {
        "colab": {
          "base_uri": "https://localhost:8080/"
        },
        "id": "ExokAsn72e2R",
        "outputId": "2624e714-5a46-4f5d-b787-cb60b26eb9a8"
      },
      "execution_count": 8,
      "outputs": [
        {
          "output_type": "stream",
          "name": "stdout",
          "text": [
            "[('사용', 54), ('좋아요', 32), ('너무', 30), ('계좌', 26), ('알림', 21), ('이용', 21), ('수수료', 19), ('이체', 19), ('카드', 19), ('업데이트', 18), ('인증', 17), ('다시', 17), ('편하고', 16), ('인식', 15), ('설치', 14), ('깔끔하고', 14), ('뱅킹', 13), ('폰', 13), ('인증서', 13), ('가입', 13)]\n"
          ]
        }
      ]
    },
    {
      "cell_type": "code",
      "source": [
        "# 두 가지 경우에 대해서 각각 길이 분포 확인\n",
        "fig,(ax1,ax2) = plt.subplots(1,2,figsize=(10,5))\n",
        "text_len = train_data[train_data['label']==1]['tokenized'].map(lambda x: len(x))\n",
        "ax1.hist(text_len, color='red')\n",
        "ax1.set_title('Positive Reviews')\n",
        "ax1.set_xlabel('length of samples')\n",
        "ax1.set_ylabel('number of samples')\n",
        "print('긍정 리뷰의 평균 길이 :', np.mean(text_len))\n",
        "\n",
        "text_len = train_data[train_data['label']==0]['tokenized'].map(lambda x: len(x))\n",
        "ax2.hist(text_len, color='blue')\n",
        "ax2.set_title('Negative Reviews')\n",
        "fig.suptitle('Words in texts')\n",
        "ax2.set_xlabel('length of samples')\n",
        "ax2.set_ylabel('number of samples')\n",
        "print('부정 리뷰의 평균 길이 :', np.mean(text_len))\n",
        "plt.show()"
      ],
      "metadata": {
        "colab": {
          "base_uri": "https://localhost:8080/",
          "height": 407
        },
        "id": "8Lwe9CNp35dp",
        "outputId": "3fbdf0c7-b75c-4626-c8a6-853f61eddc3f"
      },
      "execution_count": 9,
      "outputs": [
        {
          "output_type": "stream",
          "name": "stdout",
          "text": [
            "긍정 리뷰의 평균 길이 : 18.622549019607842\n",
            "부정 리뷰의 평균 길이 : 23.206636500754147\n"
          ]
        },
        {
          "output_type": "display_data",
          "data": {
            "text/plain": [
              "<Figure size 720x360 with 2 Axes>"
            ],
            "image/png": "[encoded data removed]"
          },
          "metadata": {
            "needs_background": "light"
          }
        }
      ]
    },
    {
      "cell_type": "code",
      "source": [
        "X_train = train_data['tokenized'].values\n",
        "y_train = train_data['label'].values\n",
        "X_test= test_data['tokenized'].values\n",
        "y_test = test_data['label'].values"
      ],
      "metadata": {
        "id": "6L_E8Wuo4S2U"
      },
      "execution_count": 10,
      "outputs": []
    },
    {
      "cell_type": "markdown",
      "source": [
        "## 정수 인코딩"
      ],
      "metadata": {
        "id": "i-PS12ok4ips"
      }
    },
    {
      "cell_type": "code",
      "source": [
        "# 훈련 데이터에 대해서 단어 집합(vocaburary) 생성\n",
        "tokenizer = Tokenizer()\n",
        "tokenizer.fit_on_texts(X_train)"
      ],
      "metadata": {
        "id": "5PHUh_mAiPLU"
      },
      "execution_count": 11,
      "outputs": []
    },
    {
      "cell_type": "code",
      "source": [
        "threshold = 2\n",
        "total_cnt = len(tokenizer.word_index) # 단어의 수\n",
        "rare_cnt = 0 # 등장 빈도수가 threshold보다 작은 단어의 개수를 카운트\n",
        "total_freq = 0 # 훈련 데이터의 전체 단어 빈도수 총 합\n",
        "rare_freq = 0 # 등장 빈도수가 threshold보다 작은 단어의 등장 빈도수의 총 합\n",
        "\n",
        "# 단어와 빈도수의 쌍(pair)을 key와 value로 받는다.\n",
        "for key, value in tokenizer.word_counts.items():\n",
        "    total_freq = total_freq + value\n",
        "\n",
        "    # 단어의 등장 빈도수가 threshold보다 작으면\n",
        "    if(value < threshold):\n",
        "        rare_cnt = rare_cnt + 1\n",
        "        rare_freq = rare_freq + value\n",
        "\n",
        "print('단어 집합(vocabulary)의 크기 :',total_cnt)\n",
        "print('등장 빈도가 %s번 이하인 희귀 단어의 수: %s'%(threshold - 1, rare_cnt))\n",
        "print(\"단어 집합에서 희귀 단어의 비율:\", (rare_cnt / total_cnt)*100)\n",
        "print(\"전체 등장 빈도에서 희귀 단어 등장 빈도 비율:\", (rare_freq / total_freq)*100)"
      ],
      "metadata": {
        "colab": {
          "base_uri": "https://localhost:8080/"
        },
        "id": "imV379fc41jG",
        "outputId": "bebb92bd-6ea4-4ae4-daf0-b5476e5d3460"
      },
      "execution_count": 12,
      "outputs": [
        {
          "output_type": "stream",
          "name": "stdout",
          "text": [
            "단어 집합(vocabulary)의 크기 : 7248\n",
            "등장 빈도가 1번 이하인 희귀 단어의 수: 4231\n",
            "단어 집합에서 희귀 단어의 비율: 58.374724061810156\n",
            "전체 등장 빈도에서 희귀 단어 등장 빈도 비율: 12.238581470018223\n"
          ]
        }
      ]
    },
    {
      "cell_type": "markdown",
      "source": [
        "약 7,248개의 단어가 존재합니다. 등장 빈도가 1회인 단어들은 단어 집합에서 약 58%를 차지하지만, 실제 훈련 데이터에서 등장 빈도로 차지하는 비중은 12%로 이 단어들은 정수 인코딩 과정에서 배제시키겠습니다."
      ],
      "metadata": {
        "id": "-W9Hl33fdKCs"
      }
    },
    {
      "cell_type": "code",
      "source": [
        "# 전체 단어 개수 중 빈도수 2이하인 단어 개수는 제거.\n",
        "# 0번 패딩 토큰과 1번 OOV 토큰을 고려하여 +2\n",
        "vocab_size = total_cnt - rare_cnt + 2\n",
        "print('단어 집합의 크기 :',vocab_size)"
      ],
      "metadata": {
        "colab": {
          "base_uri": "https://localhost:8080/"
        },
        "id": "l0GHA05P44OB",
        "outputId": "0d140e72-6fcb-4595-f72b-260a6cf2a0c7"
      },
      "execution_count": 13,
      "outputs": [
        {
          "output_type": "stream",
          "name": "stdout",
          "text": [
            "단어 집합의 크기 : 3019\n"
          ]
        }
      ]
    },
    {
      "cell_type": "code",
      "source": [
        "tokenizer = Tokenizer(vocab_size, oov_token = 'OOV') \n",
        "tokenizer.fit_on_texts(X_train)\n",
        "X_train = tokenizer.texts_to_sequences(X_train)\n",
        "X_test = tokenizer.texts_to_sequences(X_test)"
      ],
      "metadata": {
        "id": "Q12IymEo4-zm"
      },
      "execution_count": 14,
      "outputs": []
    },
    {
      "cell_type": "code",
      "source": [
        "# 상위 3개 샘플 확인\n",
        "print(X_train[:3])\n",
        "print(X_test[:3])"
      ],
      "metadata": {
        "colab": {
          "base_uri": "https://localhost:8080/"
        },
        "id": "iBAFfYbe5AeM",
        "outputId": "b4b94f41-f5c4-4ff6-b208-7bd64113a273"
      },
      "execution_count": 15,
      "outputs": [
        {
          "output_type": "stream",
          "name": "stdout",
          "text": [
            "[[1, 18, 239, 369, 1, 160, 2, 4, 47, 126, 54, 1549, 32, 88, 151, 1], [293, 25, 739, 73, 1088, 2021, 1268, 44, 269, 1, 1, 76, 620, 544, 673, 181], [417, 370, 836, 71, 59, 56, 85, 7, 1, 59, 161, 837, 1550, 2022, 1269, 347, 1, 674, 508, 281, 56, 1, 1270, 162, 202, 838, 59, 545, 1, 215, 54, 281, 1, 89, 1, 1271, 13, 1, 325, 2023, 1272, 98, 1551, 1, 59, 545, 1, 2024, 59, 545, 1552, 481, 50, 371, 112, 1, 149, 59, 545, 59, 1, 1, 326, 1273, 281, 34, 1, 943, 1, 1]]\n",
            "[[135, 9, 137, 1, 202, 313, 647, 1], [8, 9, 1, 1, 61, 2010, 611, 50, 70, 9, 1, 65, 131, 30, 687, 1885, 1303, 215, 1751], [2859, 408, 1, 371, 1, 260, 1936, 94, 1060, 3, 1685, 88, 1370, 1, 7, 1, 1357, 642, 8, 118, 1, 1155, 30, 801, 3, 259, 1, 1, 116, 73, 785, 73, 1, 1806, 1, 1, 1, 1, 1, 1, 90, 2809, 1, 1382, 2818, 679, 1, 1]]\n"
          ]
        }
      ]
    },
    {
      "cell_type": "markdown",
      "source": [
        "## 패딩"
      ],
      "metadata": {
        "id": "Y5xxDz785DG8"
      }
    },
    {
      "cell_type": "code",
      "source": [
        "print('리뷰의 최대 길이 :',max(len(review) for review in X_train))\n",
        "print('리뷰의 평균 길이 :',sum(map(len, X_train))/len(X_train))\n",
        "plt.hist([len(review) for review in X_train], bins=50)\n",
        "plt.xlabel('length of samples')\n",
        "plt.ylabel('number of samples')\n",
        "plt.show()"
      ],
      "metadata": {
        "colab": {
          "base_uri": "https://localhost:8080/",
          "height": 316
        },
        "id": "97eotWsK5EjF",
        "outputId": "441a0978-9c02-4bb1-cd62-34e141e3bcbc"
      },
      "execution_count": 16,
      "outputs": [
        {
          "output_type": "stream",
          "name": "stdout",
          "text": [
            "리뷰의 최대 길이 : 155\n",
            "리뷰의 평균 길이 : 22.595424836601307\n"
          ]
        },
        {
          "output_type": "display_data",
          "data": {
            "text/plain": [
              "<Figure size 432x288 with 1 Axes>"
            ],
            "image/png": "[encoded data removed]"
          },
          "metadata": {
            "needs_background": "light"
          }
        }
      ]
    },
    {
      "cell_type": "code",
      "source": [
        "def below_threshold_len(max_len, nested_list):\n",
        "  count = 0\n",
        "  for sentence in nested_list:\n",
        "    if(len(sentence) <= max_len):\n",
        "        count = count + 1\n",
        "  print('전체 샘플 중 길이가 %s 이하인 샘플의 비율: %s'%(max_len, (count / len(nested_list))*100))"
      ],
      "metadata": {
        "id": "KAvBvQ4o5Lbx"
      },
      "execution_count": 17,
      "outputs": []
    },
    {
      "cell_type": "markdown",
      "source": [
        "최대 길이가 155이므로 만약 100으로 패딩할 경우, 몇 개의 샘플들을 온전히 보전할 수 있을지 확인합니다."
      ],
      "metadata": {
        "id": "oUJMJTK_dyYQ"
      }
    },
    {
      "cell_type": "code",
      "source": [
        "max_len = 100\n",
        "below_threshold_len(max_len, X_train)"
      ],
      "metadata": {
        "colab": {
          "base_uri": "https://localhost:8080/"
        },
        "id": "kC6XXEVw5PI_",
        "outputId": "849c9e75-0c85-48b6-9503-1798c54cd311"
      },
      "execution_count": 18,
      "outputs": [
        {
          "output_type": "stream",
          "name": "stdout",
          "text": [
            "전체 샘플 중 길이가 100 이하인 샘플의 비율: 99.2156862745098\n"
          ]
        }
      ]
    },
    {
      "cell_type": "code",
      "source": [
        "# 훈련용 리뷰를 길이 100으로 패딩\n",
        "X_train = pad_sequences(X_train, maxlen=max_len)\n",
        "X_test = pad_sequences(X_test, maxlen=max_len)"
      ],
      "metadata": {
        "id": "JAfCqS845UX3"
      },
      "execution_count": 19,
      "outputs": []
    },
    {
      "cell_type": "markdown",
      "source": [
        "## **GRU로 감성 분류**"
      ],
      "metadata": {
        "id": "LsLsiEjIfIxW"
      }
    },
    {
      "cell_type": "code",
      "source": [
        "embedding_dim = 100\n",
        "hidden_units = 128\n",
        "\n",
        "model = Sequential()\n",
        "model.add(Embedding(vocab_size, embedding_dim))\n",
        "model.add(GRU(hidden_units))\n",
        "model.add(Dense(1, activation='sigmoid'))\n",
        "\n",
        "es = EarlyStopping(monitor='val_loss', mode='min', verbose=1, patience=4)\n",
        "mc = ModelCheckpoint('best_model.h5', monitor='val_acc', mode='max', verbose=1, save_best_only=True)\n",
        "\n",
        "model.compile(optimizer='rmsprop', loss='binary_crossentropy', metrics=['acc'])\n",
        "history = model.fit(X_train, y_train, epochs=15, callbacks=[es, mc], batch_size=64, validation_split=0.2)"
      ],
      "metadata": {
        "colab": {
          "base_uri": "https://localhost:8080/"
        },
        "id": "tYGwpQ6UfmW3",
        "outputId": "b678a0af-514a-4441-cebd-2afa1d635964"
      },
      "execution_count": 34,
      "outputs": [
        {
          "output_type": "stream",
          "name": "stdout",
          "text": [
            "Epoch 1/15\n",
            "20/20 [==============================] - ETA: 0s - loss: 0.4928 - acc: 0.8497\n",
            "Epoch 1: val_acc improved from -inf to 0.86275, saving model to best_model.h5\n",
            "20/20 [==============================] - 10s 267ms/step - loss: 0.4928 - acc: 0.8497 - val_loss: 0.3460 - val_acc: 0.8627\n",
            "Epoch 2/15\n",
            "20/20 [==============================] - ETA: 0s - loss: 0.2753 - acc: 0.8889\n",
            "Epoch 2: val_acc improved from 0.86275 to 0.89542, saving model to best_model.h5\n",
            "20/20 [==============================] - 4s 197ms/step - loss: 0.2753 - acc: 0.8889 - val_loss: 0.3942 - val_acc: 0.8954\n",
            "Epoch 3/15\n",
            "20/20 [==============================] - ETA: 0s - loss: 0.1778 - acc: 0.9232\n",
            "Epoch 3: val_acc improved from 0.89542 to 0.91176, saving model to best_model.h5\n",
            "20/20 [==============================] - 4s 196ms/step - loss: 0.1778 - acc: 0.9232 - val_loss: 0.3607 - val_acc: 0.9118\n",
            "Epoch 4/15\n",
            "20/20 [==============================] - ETA: 0s - loss: 0.1031 - acc: 0.9608\n",
            "Epoch 4: val_acc did not improve from 0.91176\n",
            "20/20 [==============================] - 4s 199ms/step - loss: 0.1031 - acc: 0.9608 - val_loss: 0.4196 - val_acc: 0.9052\n",
            "Epoch 5/15\n",
            "20/20 [==============================] - ETA: 0s - loss: 0.0627 - acc: 0.9788\n",
            "Epoch 5: val_acc did not improve from 0.91176\n",
            "20/20 [==============================] - 4s 197ms/step - loss: 0.0627 - acc: 0.9788 - val_loss: 0.4728 - val_acc: 0.9020\n",
            "Epoch 5: early stopping\n"
          ]
        }
      ]
    },
    {
      "cell_type": "markdown",
      "source": [
        "*에코프 5에서 조기 종료가 발생했습니다.*"
      ],
      "metadata": {
        "id": "J9xlJScfo0hu"
      }
    },
    {
      "cell_type": "code",
      "source": [
        "loaded_model = load_model('best_model.h5')\n",
        "print(\"\\n 테스트 정확도: %.4f\" % (loaded_model.evaluate(X_test, y_test)[1]))"
      ],
      "metadata": {
        "colab": {
          "base_uri": "https://localhost:8080/"
        },
        "id": "YttwneHaoTVl",
        "outputId": "f5491067-7190-464c-8e4d-be8bd122595a"
      },
      "execution_count": 35,
      "outputs": [
        {
          "output_type": "stream",
          "name": "stdout",
          "text": [
            "16/16 [==============================] - 1s 27ms/step - loss: 0.4409 - acc: 0.8882\n",
            "\n",
            " 테스트 정확도: 0.8882\n"
          ]
        }
      ]
    },
    {
      "cell_type": "markdown",
      "source": [
        "## **BiLSTM으로 감성 분류**"
      ],
      "metadata": {
        "id": "EDRocIz85ahI"
      }
    },
    {
      "cell_type": "code",
      "source": [
        "embedding_dim = 100\n",
        "hidden_units = 128\n",
        "\n",
        "model = Sequential()\n",
        "model.add(Embedding(vocab_size, embedding_dim))\n",
        "model.add(Bidirectional(LSTM(hidden_units))) # Bidirectional LSTM을 사용\n",
        "model.add(Dense(1, activation='sigmoid'))\n",
        "\n",
        "es = EarlyStopping(monitor='val_loss', mode='min', verbose=1, patience=4)\n",
        "mc = ModelCheckpoint('best_model.h5', monitor='val_acc', mode='max', verbose=1, save_best_only=True)\n",
        "\n",
        "model.compile(optimizer='rmsprop', loss='binary_crossentropy', metrics=['acc'])\n",
        "history = model.fit(X_train, y_train, epochs=15, callbacks=[es, mc], batch_size=256, validation_split=0.2)\n"
      ],
      "metadata": {
        "colab": {
          "base_uri": "https://localhost:8080/"
        },
        "id": "iXHbw_pm5f-r",
        "outputId": "1821ca5e-7fb7-4dce-b263-c6038e5afe33"
      },
      "execution_count": 20,
      "outputs": [
        {
          "output_type": "stream",
          "name": "stdout",
          "text": [
            "Epoch 1/15\n",
            "5/5 [==============================] - ETA: 0s - loss: 0.6049 - acc: 0.7132\n",
            "Epoch 1: val_acc improved from -inf to 0.86275, saving model to best_model.h5\n",
            "5/5 [==============================] - 14s 2s/step - loss: 0.6049 - acc: 0.7132 - val_loss: 0.3981 - val_acc: 0.8627\n",
            "Epoch 2/15\n",
            "5/5 [==============================] - ETA: 0s - loss: 0.3829 - acc: 0.8676\n",
            "Epoch 2: val_acc did not improve from 0.86275\n",
            "5/5 [==============================] - 7s 1s/step - loss: 0.3829 - acc: 0.8676 - val_loss: 0.3917 - val_acc: 0.8627\n",
            "Epoch 3/15\n",
            "5/5 [==============================] - ETA: 0s - loss: 0.3647 - acc: 0.8676\n",
            "Epoch 3: val_acc did not improve from 0.86275\n",
            "5/5 [==============================] - 6s 1s/step - loss: 0.3647 - acc: 0.8676 - val_loss: 0.3731 - val_acc: 0.8627\n",
            "Epoch 4/15\n",
            "5/5 [==============================] - ETA: 0s - loss: 0.3226 - acc: 0.8676\n",
            "Epoch 4: val_acc did not improve from 0.86275\n",
            "5/5 [==============================] - 6s 1s/step - loss: 0.3226 - acc: 0.8676 - val_loss: 0.3401 - val_acc: 0.8627\n",
            "Epoch 5/15\n",
            "5/5 [==============================] - ETA: 0s - loss: 0.2557 - acc: 0.8799\n",
            "Epoch 5: val_acc did not improve from 0.86275\n",
            "5/5 [==============================] - 6s 1s/step - loss: 0.2557 - acc: 0.8799 - val_loss: 0.3082 - val_acc: 0.8627\n",
            "Epoch 6/15\n",
            "5/5 [==============================] - ETA: 0s - loss: 0.2053 - acc: 0.8938\n",
            "Epoch 6: val_acc improved from 0.86275 to 0.89869, saving model to best_model.h5\n",
            "5/5 [==============================] - 6s 1s/step - loss: 0.2053 - acc: 0.8938 - val_loss: 0.3106 - val_acc: 0.8987\n",
            "Epoch 7/15\n",
            "5/5 [==============================] - ETA: 0s - loss: 0.1494 - acc: 0.9502\n",
            "Epoch 7: val_acc improved from 0.89869 to 0.90850, saving model to best_model.h5\n",
            "5/5 [==============================] - 6s 1s/step - loss: 0.1494 - acc: 0.9502 - val_loss: 0.3009 - val_acc: 0.9085\n",
            "Epoch 8/15\n",
            "5/5 [==============================] - ETA: 0s - loss: 0.1089 - acc: 0.9690\n",
            "Epoch 8: val_acc did not improve from 0.90850\n",
            "5/5 [==============================] - 6s 1s/step - loss: 0.1089 - acc: 0.9690 - val_loss: 0.2971 - val_acc: 0.8758\n",
            "Epoch 9/15\n",
            "5/5 [==============================] - ETA: 0s - loss: 0.0987 - acc: 0.9812\n",
            "Epoch 9: val_acc did not improve from 0.90850\n",
            "5/5 [==============================] - 6s 1s/step - loss: 0.0987 - acc: 0.9812 - val_loss: 0.3483 - val_acc: 0.8856\n",
            "Epoch 10/15\n",
            "5/5 [==============================] - ETA: 0s - loss: 0.0637 - acc: 0.9861\n",
            "Epoch 10: val_acc did not improve from 0.90850\n",
            "5/5 [==============================] - 7s 1s/step - loss: 0.0637 - acc: 0.9861 - val_loss: 0.3236 - val_acc: 0.8725\n",
            "Epoch 11/15\n",
            "5/5 [==============================] - ETA: 0s - loss: 0.0706 - acc: 0.9828\n",
            "Epoch 11: val_acc did not improve from 0.90850\n",
            "5/5 [==============================] - 7s 1s/step - loss: 0.0706 - acc: 0.9828 - val_loss: 0.4304 - val_acc: 0.8824\n",
            "Epoch 12/15\n",
            "5/5 [==============================] - ETA: 0s - loss: 0.1595 - acc: 0.9592\n",
            "Epoch 12: val_acc did not improve from 0.90850\n",
            "5/5 [==============================] - 7s 1s/step - loss: 0.1595 - acc: 0.9592 - val_loss: 0.3049 - val_acc: 0.8824\n",
            "Epoch 12: early stopping\n"
          ]
        }
      ]
    },
    {
      "cell_type": "markdown",
      "source": [
        "*에포크 12에서 조기 종료가 발생했습니다.*"
      ],
      "metadata": {
        "id": "eMppG4Ufoe2E"
      }
    },
    {
      "cell_type": "code",
      "source": [
        "loaded_model = load_model('best_model.h5')\n",
        "print(\"테스트 정확도: %.4f\" % (loaded_model.evaluate(X_test, y_test)[1]))"
      ],
      "metadata": {
        "colab": {
          "base_uri": "https://localhost:8080/"
        },
        "id": "CwFT_VZW55Q6",
        "outputId": "5aa4e6d6-a91a-4efb-fdf3-c28be1a30517"
      },
      "execution_count": 21,
      "outputs": [
        {
          "output_type": "stream",
          "name": "stdout",
          "text": [
            "16/16 [==============================] - 2s 58ms/step - loss: 0.3504 - acc: 0.8902\n",
            "테스트 정확도: 0.8902\n"
          ]
        }
      ]
    },
    {
      "cell_type": "markdown",
      "source": [
        "### 리뷰 예측해보기"
      ],
      "metadata": {
        "id": "DhK1_XYT6BuP"
      }
    },
    {
      "cell_type": "code",
      "source": [
        "stopwords = ['도', '는', '다', '의', '가', '이', '은', '한', '에', '하', '고', '을', '를', '인', '듯', '과', '와', '네', '들', '듯', '지', '임', '게','요','거','로','으로',\n",
        "            '것','수','할','하는','제','에서','그','데','번','해도','죠','된','건','바','구','세','안','하고','만','못','재','잘','하고','더','안','때','앱','어플','다른',\n",
        "             '왜','좀','안되고','뱅크','케이','은행','있습니다','적','하기','입니다','중','했는데','합니다','같아요','인데','저','면','주','해서','부터','뭐','후','하는데',\n",
        "             '같습니다','그리고','고']"
      ],
      "metadata": {
        "id": "vj-Hcn8b8TPI"
      },
      "execution_count": 22,
      "outputs": []
    },
    {
      "cell_type": "code",
      "source": [
        "def sentiment_predict(new_sentence):\n",
        "  new_sentence = re.sub(r'[^ㄱ-ㅎㅏ-ㅣ가-힣 ]','', new_sentence)\n",
        "  new_sentence = t.morphs(new_sentence) # 토큰화\n",
        "  new_sentence = [word for word in new_sentence if not word in stopwords] # 불용어 제거\n",
        "  encoded = tokenizer.texts_to_sequences([new_sentence]) # 정수 인코딩\n",
        "  pad_new = pad_sequences(encoded, maxlen = max_len) # 패딩\n",
        "  score = float(loaded_model.predict(pad_new)) # 예측\n",
        "  if(score > 0.5):\n",
        "    print(\"{:.2f}% 확률로 긍정 리뷰입니다.\".format(score * 100))\n",
        "  else:\n",
        "    print(\"{:.2f}% 확률로 부정 리뷰입니다.\".format((1 - score) * 100))"
      ],
      "metadata": {
        "id": "X_A4sPcG6NHs"
      },
      "execution_count": 23,
      "outputs": []
    },
    {
      "cell_type": "code",
      "source": [
        "sentiment_predict('앱 킬때마다 인증 다시 해야함 진짜 별로임...')"
      ],
      "metadata": {
        "colab": {
          "base_uri": "https://localhost:8080/"
        },
        "id": "x4FDWaY-7hUF",
        "outputId": "a7254ca2-512a-4d6c-84b1-743d905695c1"
      },
      "execution_count": 24,
      "outputs": [
        {
          "output_type": "stream",
          "name": "stdout",
          "text": [
            "86.78% 확률로 부정 리뷰입니다.\n"
          ]
        }
      ]
    },
    {
      "cell_type": "code",
      "source": [
        "sentiment_predict('너무 편하지만 가입이 불편하고 지문 인식이 잘 안됨')"
      ],
      "metadata": {
        "colab": {
          "base_uri": "https://localhost:8080/"
        },
        "id": "Rai7FkJf7quL",
        "outputId": "e270b359-796a-461c-b37d-19d68e97c44e"
      },
      "execution_count": 25,
      "outputs": [
        {
          "output_type": "stream",
          "name": "stdout",
          "text": [
            "69.86% 확률로 부정 리뷰입니다.\n"
          ]
        }
      ]
    },
    {
      "cell_type": "code",
      "source": [
        "sentiment_predict('이체하기 편하고 쉬워서 좋아요ㅎㅎ')"
      ],
      "metadata": {
        "colab": {
          "base_uri": "https://localhost:8080/"
        },
        "id": "6uAacYIz8NO-",
        "outputId": "5dc8ae88-2ae1-4c72-9bc4-8c07f7731580"
      },
      "execution_count": 27,
      "outputs": [
        {
          "output_type": "stream",
          "name": "stdout",
          "text": [
            "66.06% 확률로 긍정 리뷰입니다.\n"
          ]
        }
      ]
    }
  ]
}
